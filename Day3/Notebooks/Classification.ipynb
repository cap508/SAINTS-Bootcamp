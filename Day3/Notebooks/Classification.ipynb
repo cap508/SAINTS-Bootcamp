{
  "nbformat": 4,
  "nbformat_minor": 0,
  "metadata": {
    "colab": {
      "provenance": []
    },
    "kernelspec": {
      "name": "python3",
      "display_name": "Python 3"
    },
    "language_info": {
      "name": "python"
    }
  },
  "cells": [
    {
      "cell_type": "markdown",
      "source": [
        "# Classification\n",
        "\n",
        "Note this example is taken from Hands-On Machine Learning with Scikit-Learn, Keras & tensorFlow by Aurelien Geron.\n",
        "\n",
        "https://github.com/ageron/handson-ml3/blob/main/04_training_linear_models.ipynb\n",
        "\n"
      ],
      "metadata": {
        "id": "wHL0jU5Gx8_6"
      }
    },
    {
      "cell_type": "code",
      "execution_count": null,
      "metadata": {
        "id": "XcBildhMx5hl"
      },
      "outputs": [],
      "source": [
        "# sklearn is a library for machine library and we're going to get the iris data\n",
        "# set from it.\n",
        "\n",
        "# https://en.wikipedia.org/wiki/Iris_flower_data_set\n",
        "\n",
        "# We will also load the matplotlib and numpt libraries.\n",
        "\n",
        "from sklearn.datasets import load_iris\n",
        "import matplotlib.pyplot as plt\n",
        "import numpy as np\n"
      ]
    },
    {
      "cell_type": "code",
      "source": [
        "# let's load the dataset we are going to use\n",
        "\n",
        "iris = load_iris(as_frame=True)\n",
        "\n",
        "# then we can look at the 'things' that are associated with the data set\n",
        "\n",
        "list(iris)"
      ],
      "metadata": {
        "id": "Yp0Je0WfYeLN"
      },
      "execution_count": null,
      "outputs": []
    },
    {
      "cell_type": "code",
      "source": [
        "# use iris? to get the help page\n",
        "iris.data"
      ],
      "metadata": {
        "id": "hW8WOcRxYQv0"
      },
      "execution_count": null,
      "outputs": []
    },
    {
      "cell_type": "code",
      "source": [
        "# the object returned also has a nice DESCR function which tells us all about the data set.\n",
        "print(iris.DESCR)"
      ],
      "metadata": {
        "id": "vLz29YYJaT9v"
      },
      "execution_count": null,
      "outputs": []
    },
    {
      "cell_type": "code",
      "source": [
        "# look at each key in turn to see what it looks like\n",
        "# e.g. iris.data\n"
      ],
      "metadata": {
        "id": "5FW_2tAVXHJo"
      },
      "execution_count": null,
      "outputs": []
    },
    {
      "cell_type": "code",
      "source": [
        "iris.data.head(3)\n"
      ],
      "metadata": {
        "id": "lFbZzmVuXTRo"
      },
      "execution_count": null,
      "outputs": []
    },
    {
      "cell_type": "code",
      "source": [
        "# Now we are going to get a set of labels for the data.\n",
        "# We want these lavels to be 1 whwn the flower is of a particular type and zero otherwise\n",
        "# we can get the target names using iris.target_names\n",
        "\n",
        "# What does this function do?\n",
        "\n",
        "\n",
        "y = (iris[\"target\"] == 2).astype(int)\n"
      ],
      "metadata": {
        "id": "UTVDtHIjac-l"
      },
      "execution_count": null,
      "outputs": []
    },
    {
      "cell_type": "code",
      "source": [
        "# We can also use the target names directly but it's a bit more complex\n",
        "y = iris.target_names[iris.target] == 'virginica'\n"
      ],
      "metadata": {
        "id": "IbPh4TRdZfvZ"
      },
      "execution_count": null,
      "outputs": []
    },
    {
      "cell_type": "code",
      "source": [
        "# We are going to be doing what is known as logistic regression. i.e. binary 0/1 or true false.\n",
        "# so let's load that library\n",
        "\n",
        "from sklearn.linear_model import LogisticRegression\n",
        "\n",
        "# We will also be be splitting our data into training and test data.\n",
        "# luckily there is a function for that.\n",
        "from sklearn.model_selection import train_test_split\n"
      ],
      "metadata": {
        "id": "tuEd2Y_jXinW"
      },
      "execution_count": null,
      "outputs": []
    },
    {
      "cell_type": "code",
      "source": [
        "# We already said what our labels are, now we will say what our input to the model is.\n",
        "# We will start simply and see if we can get a model that predicts is this is a\n",
        "# virginica based only on the petal width.\n",
        "\n",
        "X = iris.data[[\"petal width (cm)\"]].values\n"
      ],
      "metadata": {
        "id": "iLp4viVqZsoJ"
      },
      "execution_count": null,
      "outputs": []
    },
    {
      "cell_type": "code",
      "source": [
        "# We want to take some data and use it for training and put some data aside for testing\n",
        "# so we will use the train_test_split function which as default makes 20% of the data\n",
        "# testing data.\n",
        "X_train, X_test, y_train, y_test = train_test_split(X, y, random_state=42)\n",
        "\n",
        "# At this point we've inspected our model and prepared it for training."
      ],
      "metadata": {
        "id": "WOFktKTxaIae"
      },
      "execution_count": null,
      "outputs": []
    },
    {
      "cell_type": "code",
      "source": [
        "# OK we are now in a position to make and train our model\n",
        "\n",
        "# Create a model\n",
        "log_reg_1 = LogisticRegression(random_state=42)\n",
        "\n",
        "\n",
        "# and call a function to fit the model parameters using the training data.\n",
        "log_reg_1.fit(X_train, y_train)\n",
        "\n"
      ],
      "metadata": {
        "id": "KeOQ8ktladbT"
      },
      "execution_count": null,
      "outputs": []
    },
    {
      "cell_type": "code",
      "source": [
        "# That's it we have a model.\n",
        "# So let's examine it.\n",
        "\n",
        "# create some sample inputs\n",
        "X_new = np.linspace(0,3,1000).reshape(-1,1)\n",
        "\n",
        "# use the model to predict the outputs as probabilities.\n",
        "y_proba = log_reg_1.predict_proba(X_new)\n",
        "\n",
        "\n",
        "\n",
        "# Now we can plot our information\n",
        "plt.plot(X_new, y_proba[:,1], \"g-\", label=\"Iris-Virginica\")\n",
        "plt.plot(X_new, y_proba[:,0], \"b--\", label=\"Not Iris-Virginica\")\n",
        "X = iris.data[[\"petal width (cm)\"]].values\n",
        "\n",
        "# Update the graph to include x and y labels, a legend and a grid.\n",
        "\n",
        "#plt.xlabel(\"Petal width (cm)\")\n",
        "#plt.ylabel(\"Probability\")\n",
        "#plt.legend()\n",
        "#plt.grid()\n",
        "\n",
        "plt.show()"
      ],
      "metadata": {
        "id": "jhDsWv2CYocj"
      },
      "execution_count": null,
      "outputs": []
    },
    {
      "cell_type": "code",
      "source": [
        "# Here is an example of making this a much prettier plot\n",
        "\n",
        "X_new = np.linspace(0, 3, 1000).reshape(-1, 1)  # reshape to get a column vector\n",
        "y_proba = log_reg_1.predict_proba(X_new)\n",
        "decision_boundary = X_new[y_proba[:, 1] >= 0.5][0, 0]\n",
        "\n",
        "plt.figure(figsize=(8, 3))  # extra code – not needed, just formatting\n",
        "plt.plot(X_new, y_proba[:, 0], \"b--\", linewidth=2,\n",
        "         label=\"Not Iris virginica proba\")\n",
        "plt.plot(X_new, y_proba[:, 1], \"g-\", linewidth=2, label=\"Iris virginica proba\")\n",
        "plt.plot([decision_boundary, decision_boundary], [0, 1], \"k:\", linewidth=2,\n",
        "         label=\"Decision boundary\")\n",
        "\n",
        "# extra code – this section beautifies the plot\n",
        "plt.arrow(x=decision_boundary, y=0.08, dx=-0.3, dy=0,\n",
        "          head_width=0.05, head_length=0.1, fc=\"b\", ec=\"b\")\n",
        "plt.arrow(x=decision_boundary, y=0.92, dx=0.3, dy=0,\n",
        "          head_width=0.05, head_length=0.1, fc=\"g\", ec=\"g\")\n",
        "plt.plot(X_train[y_train == 0], y_train[y_train == 0], \"bs\")\n",
        "plt.plot(X_train[y_train == 1], y_train[y_train == 1], \"g^\")\n",
        "plt.xlabel(\"Petal width (cm)\")\n",
        "plt.ylabel(\"Probability\")\n",
        "plt.legend(loc=\"center left\")\n",
        "plt.axis([0, 3, -0.02, 1.02])\n",
        "plt.grid()\n",
        "\n",
        "plt.show()"
      ],
      "metadata": {
        "id": "bP2K6nChZYTr"
      },
      "execution_count": null,
      "outputs": []
    },
    {
      "cell_type": "code",
      "source": [
        "# Now let's see how we have more than one input\n",
        "\n",
        "X = iris.data[[\"petal length (cm)\", \"petal width (cm)\"]].values\n",
        "y = iris.target_names[iris.target] == 'virginica'\n",
        "X_train, X_test, y_train, y_test = train_test_split(X, y, random_state=42)\n",
        "\n",
        "log_reg_2 = LogisticRegression(C=2, random_state=42)\n",
        "log_reg_2.fit(X_train, y_train)\n",
        "\n",
        "\n",
        "# Notice that the only thing we have changed is the input X which now has two\n",
        "# features length and width. The library takes care of everything else."
      ],
      "metadata": {
        "id": "fAXIjSh9cWp6"
      },
      "execution_count": null,
      "outputs": []
    },
    {
      "cell_type": "code",
      "source": [
        "\n",
        "# Now for the  plot\n",
        "x0, x1 = np.meshgrid(np.linspace(2.9, 7, 500).reshape(-1, 1),\n",
        "                     np.linspace(0.8, 2.7, 200).reshape(-1, 1))\n",
        "X_new = np.c_[x0.ravel(), x1.ravel()]  # one instance per point on the figure\n",
        "y_proba = log_reg_2.predict_proba(X_new)\n",
        "zz = y_proba[:, 1].reshape(x0.shape)\n",
        "\n",
        "# for the decision boundary\n",
        "left_right = np.array([2.9, 7])\n",
        "boundary = -((log_reg_2.coef_[0, 0] * left_right + log_reg_2.intercept_[0])\n",
        "             / log_reg_2.coef_[0, 1])\n",
        "\n",
        "plt.figure(figsize=(10, 4))\n",
        "plt.plot(X_train[y_train == 0, 0], X_train[y_train == 0, 1], \"bs\")\n",
        "plt.plot(X_train[y_train == 1, 0], X_train[y_train == 1, 1], \"g^\")\n",
        "contour = plt.contour(x0, x1, zz, cmap=plt.cm.brg)\n",
        "plt.clabel(contour, inline=1)\n",
        "plt.plot(left_right, boundary, \"k--\", linewidth=3)\n",
        "plt.text(3.5, 1.27, \"Not Iris virginica\", color=\"b\", ha=\"center\")\n",
        "plt.text(6.5, 2.3, \"Iris virginica\", color=\"g\", ha=\"center\")\n",
        "plt.xlabel(\"Petal length\")\n",
        "plt.ylabel(\"Petal width\")\n",
        "plt.axis([2.9, 7, 0.8, 2.7])\n",
        "plt.grid()\n",
        "\n",
        "plt.show()"
      ],
      "metadata": {
        "id": "cpZa0R_ua_hv"
      },
      "execution_count": null,
      "outputs": []
    },
    {
      "cell_type": "code",
      "source": [
        "# Challenge Try building a classifier that uses speal rather than petal dimensions and then\n",
        "# plot the results\n"
      ],
      "metadata": {
        "id": "kOm758VfbP22"
      },
      "execution_count": null,
      "outputs": []
    },
    {
      "cell_type": "code",
      "source": [
        "# a quick note on saving models\n",
        "import pickle\n",
        "\n",
        "with open('model.pkl','wb') as f:\n",
        "    pickle.dump(log_reg_2,f)\n"
      ],
      "metadata": {
        "id": "NcPXevbyc0BX"
      },
      "execution_count": null,
      "outputs": []
    },
    {
      "cell_type": "code",
      "source": [
        "# We could then load it back in with\n",
        "\n",
        "with open('model.pkl', 'rb') as f:\n",
        "    log_reg_mdl = pickle.load(f)\n"
      ],
      "metadata": {
        "id": "-k1KJemzdAf1"
      },
      "execution_count": null,
      "outputs": []
    },
    {
      "cell_type": "code",
      "source": [
        "y_proba = log_reg_mdl.predict_proba(X_new)\n",
        "print(y_proba[0:5, 0])"
      ],
      "metadata": {
        "id": "tfA2G48WfOCV"
      },
      "execution_count": null,
      "outputs": []
    },
    {
      "cell_type": "code",
      "source": [],
      "metadata": {
        "id": "E_XW13wQvHSZ"
      },
      "execution_count": null,
      "outputs": []
    },
    {
      "cell_type": "code",
      "source": [],
      "metadata": {
        "id": "3o6lTloSvZiB"
      },
      "execution_count": null,
      "outputs": []
    }
  ]
}