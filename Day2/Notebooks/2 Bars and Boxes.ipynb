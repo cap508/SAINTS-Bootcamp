{
 "cells": [
  {
   "cell_type": "markdown",
   "metadata": {
    "id": "Muncyf6atG9a"
   },
   "source": [
    "# Introduction to Data Visualization in Python\n",
    "\n",
    "Chapter 2 - Bars and Boxes\n",
    "Welcome to this, the second part of our data visualization in python course. Having looked at line plots in part one we now consider histograms and box and whisker plots and some of the options for formatting these.\n",
    "\n",
    "\n",
    "If you have any questions, feedback or suggestions then please feel free to contact me, colin.paterson@york.ac.uk"
   ]
  },
  {
   "cell_type": "code",
   "execution_count": 1,
   "metadata": {
    "executionInfo": {
     "elapsed": 1238,
     "status": "ok",
     "timestamp": 1723117378299,
     "user": {
      "displayName": "Colin Paterson",
      "userId": "11890894921089994749"
     },
     "user_tz": -60
    },
    "id": "E2g1JoZ1s8Tk"
   },
   "outputs": [],
   "source": [
    "# Let us start by importing some libraries which will be need for this worksheet.\n",
    "\n",
    "\n",
    "import matplotlib.pyplot as plt\n",
    "import numpy as np\n",
    "import pandas as pd\n"
   ]
  },
  {
   "cell_type": "code",
   "execution_count": 2,
   "metadata": {
    "executionInfo": {
     "elapsed": 267,
     "status": "ok",
     "timestamp": 1723117378563,
     "user": {
      "displayName": "Colin Paterson",
      "userId": "11890894921089994749"
     },
     "user_tz": -60
    },
    "id": "QHQKH4F0tgGw"
   },
   "outputs": [],
   "source": [
    "# In this tutorial we will start to use the pandas library. This allows us to have\n",
    "# data frames which you can consider as tabular data.\n",
    "\n",
    "# Let us start by getting the data we are going to use.\n",
    "\n",
    "# The data is taken from some synthetic NHS data the full set is availble at\n",
    "# https://data.england.nhs.uk/dataset/a-e-synthetic-data\n",
    "# Please be aware the original data set is very large.\n",
    "\n",
    "# For the purposes of this tutorial I have stored the example dataset on my\n",
    "# university website and we can read it into a pandas dataframe as follows\n",
    "\n",
    "url ='https://www-users.york.ac.uk/~cap508/resources/NHS_Sample.csv'\n",
    "\n",
    "health_df = pd.read_csv(url)"
   ]
  },
  {
   "cell_type": "code",
   "execution_count": 3,
   "metadata": {
    "colab": {
     "base_uri": "https://localhost:8080/"
    },
    "executionInfo": {
     "elapsed": 6,
     "status": "ok",
     "timestamp": 1723117378564,
     "user": {
      "displayName": "Colin Paterson",
      "userId": "11890894921089994749"
     },
     "user_tz": -60
    },
    "id": "tZxIPLhV4GGn",
    "outputId": "be864069-366d-4c6f-a774-9770acbcd976"
   },
   "outputs": [],
   "source": [
    "# We can now look at the data and see what it looks like.\n",
    "# The head function only returns the first few rows of the data.\n",
    "print(health_df.head())"
   ]
  },
  {
   "cell_type": "code",
   "execution_count": 4,
   "metadata": {
    "colab": {
     "base_uri": "https://localhost:8080/"
    },
    "executionInfo": {
     "elapsed": 522,
     "status": "ok",
     "timestamp": 1723117379084,
     "user": {
      "displayName": "Colin Paterson",
      "userId": "11890894921089994749"
     },
     "user_tz": -60
    },
    "id": "ugIi0Ywh4WoN",
    "outputId": "e1e40627-e629-4e5c-9eb8-2b418633d275"
   },
   "outputs": [],
   "source": [
    "# Looking closer\n",
    "\n",
    "print(\"The data frame we have created has the following shape {}, i.e. 1000 rows and 19 columns\".format(health_df.shape))\n",
    "print(\"-----\")\n",
    "print(\"Column 5 of the dataframe is called : {}\".format(health_df.columns[5]))\n",
    "print(\"-----\")\n",
    "print(\"We can look at the value in a single row by index using iloc\")\n",
    "print(health_df.iloc[0])\n",
    "print(\"-----\")\n",
    "print(\"We can look at the value in a single column by\")\n",
    "print(health_df.iloc[0:5,2])\n",
    "print(\"-----\")\n",
    "\n",
    "# Some range examples\n",
    "# iloc[0, 3] eans row 0 column 3\n",
    "# iloc[0:5, 3:6] means rows 0 - 5, and columns 3 - 6\n",
    "# iloc[0:5, 3:] means rows 0 - 5, and all columns starting at column 3"
   ]
  },
  {
   "cell_type": "markdown",
   "metadata": {
    "id": "3r2u2tCn6mjE"
   },
   "source": [
    "***Plotting data***\n",
    "\n",
    "Pandas has a number of plotting functions built in for workign with tabular data so let us start with those."
   ]
  },
  {
   "cell_type": "code",
   "execution_count": 5,
   "metadata": {
    "colab": {
     "base_uri": "https://localhost:8080/",
     "height": 481
    },
    "executionInfo": {
     "elapsed": 746,
     "status": "ok",
     "timestamp": 1723117379825,
     "user": {
      "displayName": "Colin Paterson",
      "userId": "11890894921089994749"
     },
     "user_tz": -60
    },
    "id": "r7ggJJbi4yIQ",
    "outputId": "900ea4b3-3793-44c1-efb2-5313c98e0c6d"
   },
   "outputs": [],
   "source": [
    "# Let us choose one column from the data set and create a Histogram\n",
    "# Here is the simplest command possible\n",
    "plt.hist(health_df['AE_Num_Treatments'])\n"
   ]
  },
  {
   "cell_type": "code",
   "execution_count": 6,
   "metadata": {
    "colab": {
     "base_uri": "https://localhost:8080/",
     "height": 472
    },
    "executionInfo": {
     "elapsed": 1305,
     "status": "ok",
     "timestamp": 1723117381128,
     "user": {
      "displayName": "Colin Paterson",
      "userId": "11890894921089994749"
     },
     "user_tz": -60
    },
    "id": "riwl8dnu5Zts",
    "outputId": "b3e3356a-43d6-4295-a1cb-e2cb4793f2a1"
   },
   "outputs": [],
   "source": [
    "# But if we want to make this similar to our line plotting work ...\n",
    "fig,ax = plt.subplots()\n",
    "ax.hist(health_df['AE_Num_Treatments'])\n",
    "ax.set(xlabel='Treatment', ylabel='count', title='Hospital treatments per patient')\n",
    "ax.grid()\n"
   ]
  },
  {
   "cell_type": "markdown",
   "metadata": {
    "id": "d92BzIAgClJr"
   },
   "source": [
    "<font color='red'>Now you try.</font> See if you can create a plot with green rather than blue bars for column 'AE_Num_Investigations'."
   ]
  },
  {
   "cell_type": "code",
   "execution_count": 7,
   "metadata": {
    "executionInfo": {
     "elapsed": 7,
     "status": "ok",
     "timestamp": 1723117381129,
     "user": {
      "displayName": "Colin Paterson",
      "userId": "11890894921089994749"
     },
     "user_tz": -60
    },
    "id": "FhxN6ypaBr0d"
   },
   "outputs": [],
   "source": [
    "# Insert your code into this cell."
   ]
  },
  {
   "cell_type": "code",
   "execution_count": 8,
   "metadata": {
    "colab": {
     "base_uri": "https://localhost:8080/",
     "height": 472
    },
    "executionInfo": {
     "elapsed": 1586,
     "status": "ok",
     "timestamp": 1723117382709,
     "user": {
      "displayName": "Colin Paterson",
      "userId": "11890894921089994749"
     },
     "user_tz": -60
    },
    "id": "yeDHD-NP2b8X",
    "outputId": "e959d1d1-d2a9-4506-c6e3-e886a56c022a"
   },
   "outputs": [],
   "source": [
    "# OK but what if we have two sets of data for one plot then we have a couple of ways of doing this.\n",
    "\n",
    "# start by setting up two subplot\n",
    "fig = plt.figure()\n",
    "ax1 = fig.add_subplot(1,2,1)\n",
    "ax2 = fig.add_subplot(1,2,2)\n",
    "\n",
    "#In the first plot simply overlay them. Note the alpha command makes the bars transparent.\n",
    "ax1.hist(health_df['AE_Num_Treatments'], alpha=0.5)\n",
    "ax1.hist(health_df['AE_Num_Investigations'], alpha=0.5)\n",
    "ax1.set(xlabel='Treatment', ylabel='count', title='Hospital Investigations per patient')\n",
    "\n",
    "# In the second we plot them side by side. Note that the notation [x, y] means a 'Matrix'\n",
    "# structure with two columns. In this way column 1 holds the data in x and column 2 holds\n",
    "# the data in y\n",
    "ax2.hist([health_df['AE_Num_Treatments'], health_df['AE_Num_Investigations']])\n",
    "ax2.set(xlabel='Investivations', ylabel='count', title='Hospital treatments per patient')\n",
    "ax2.grid()"
   ]
  },
  {
   "cell_type": "markdown",
   "metadata": {
    "id": "h7wql-Gs6Acr"
   },
   "source": [
    "<font color='red'>Now you try.</font> based on what you have learned so far\n",
    "\n",
    "1. play with the values of alpha to see what they do\n",
    "2. Change the colors of the bars\n",
    "3. Try adding the edgecolor option to the plot\n",
    "4. Try adding histstyle='stepfilled' to a plot"
   ]
  },
  {
   "cell_type": "code",
   "execution_count": 9,
   "metadata": {
    "executionInfo": {
     "elapsed": 4,
     "status": "ok",
     "timestamp": 1723117382710,
     "user": {
      "displayName": "Colin Paterson",
      "userId": "11890894921089994749"
     },
     "user_tz": -60
    },
    "id": "XdexLL_O2van"
   },
   "outputs": [],
   "source": [
    "# Insert your code here."
   ]
  },
  {
   "cell_type": "markdown",
   "metadata": {
    "id": "nnkM-cJ1zSbX"
   },
   "source": []
  },
  {
   "cell_type": "markdown",
   "metadata": {
    "id": "9hiNaNU8zYRs"
   },
   "source": [
    "# Now we will create some Box Plots"
   ]
  },
  {
   "cell_type": "code",
   "execution_count": 10,
   "metadata": {
    "colab": {
     "base_uri": "https://localhost:8080/",
     "height": 472
    },
    "executionInfo": {
     "elapsed": 774,
     "status": "ok",
     "timestamp": 1723117383481,
     "user": {
      "displayName": "Colin Paterson",
      "userId": "11890894921089994749"
     },
     "user_tz": -60
    },
    "id": "5EzW-ESl7cE9",
    "outputId": "3fde119f-65ff-44c7-a728-a5bad4feccd9"
   },
   "outputs": [],
   "source": [
    "fig,ax = plt.subplots()\n",
    "ax.boxplot([health_df['AE_Num_Treatments'],health_df['AE_Num_Investigations']])\n",
    "ax.set(xlabel='Treatment', ylabel='count', title='Hospital treatments per patient')\n",
    "ax.set_xticklabels(['Treatments', 'Investigations'])\n",
    "ax.grid()\n"
   ]
  },
  {
   "cell_type": "markdown",
   "metadata": {
    "id": "MU0apsD62SEd"
   },
   "source": [
    "Unfortunately controlling the look of these plots can be quite tricky. Here is some code based on a question in stack overflow which creates a function to control how they look. Play with the code to see how you can change the look of the data."
   ]
  },
  {
   "cell_type": "code",
   "execution_count": 11,
   "metadata": {
    "colab": {
     "base_uri": "https://localhost:8080/",
     "height": 435
    },
    "executionInfo": {
     "elapsed": 771,
     "status": "ok",
     "timestamp": 1723117384249,
     "user": {
      "displayName": "Colin Paterson",
      "userId": "11890894921089994749"
     },
     "user_tz": -60
    },
    "id": "AQCkdewzzXP7",
    "outputId": "919aec5c-1f64-4bc4-ffe9-8dda1d371b3c"
   },
   "outputs": [],
   "source": [
    "def box_plot(data, edge_color, fill_color, width):\n",
    "    bp = ax.boxplot(data, patch_artist=True, widths=width)\n",
    "\n",
    "    for element in ['boxes', 'whiskers', 'fliers', 'means', 'medians', 'caps']:\n",
    "        plt.setp(bp[element], color=edge_color)\n",
    "\n",
    "    for patch in bp['boxes']:\n",
    "        patch.set(facecolor=fill_color)\n",
    "\n",
    "    return bp\n",
    "\n",
    "example_data1 = [[1,2,0.8,0.1,9], [0.5,2,2], [3,2,1]]\n",
    "example_data2 = [[5,3, 4], [6,4,3,8], [6,4,9]]\n",
    "\n",
    "fig, ax = plt.subplots()\n",
    "bp1 = box_plot(example_data1, 'red', 'tan', 0.8)\n",
    "bp2 = box_plot(example_data2, 'blue', 'cyan',0.6)\n",
    "ax.legend([bp1[\"boxes\"][0], bp2[\"boxes\"][0]], ['Data 1', 'Data 2'])\n",
    "ax.set_ylim(0, 10)\n",
    "plt.show()"
   ]
  },
  {
   "cell_type": "code",
   "execution_count": 11,
   "metadata": {
    "id": "sod427hF2Ozf",
    "executionInfo": {
     "status": "ok",
     "timestamp": 1723117384249,
     "user_tz": -60,
     "elapsed": 8,
     "user": {
      "displayName": "Colin Paterson",
      "userId": "11890894921089994749"
     }
    }
   },
   "outputs": [],
   "source": []
  }
 ],
 "metadata": {
  "colab": {
   "provenance": []
  },
  "kernelspec": {
   "display_name": "Python 3",
   "name": "python3"
  },
  "language_info": {
   "name": "python"
  }
 },
 "nbformat": 4,
 "nbformat_minor": 0
}