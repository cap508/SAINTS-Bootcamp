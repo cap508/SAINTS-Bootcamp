{
 "nbformat": 4,
 "nbformat_minor": 0,
 "metadata": {
  "colab": {
   "provenance": [],
   "collapsed_sections": [
    "Iic_6UrrApj4"
   ],
   "authorship_tag": "ABX9TyMR0hcNrJsgEKA77wRxvtFW"
  },
  "kernelspec": {
   "name": "python3",
   "display_name": "Python 3"
  },
  "language_info": {
   "name": "python"
  }
 },
 "cells": [
  {
   "cell_type": "markdown",
   "source": [
    "# Introduction\n",
    "\n",
    "Having looked at some basic string and file manipulation let's move our attention to data handling. So far we've tended to think of lists of data, but what happens when we want tables of data and more high dimensional data? We've learnt some things that help but of course Python has some specific modules for dealing with this kind of problem.\n",
    "\n",
    "\n",
    "\n"
   ],
   "metadata": {
    "id": "-eUtXiAZSUiX"
   }
  },
  {
   "cell_type": "markdown",
   "source": [
    "# Data Handling\n",
    "Welcome to this Python notebook on data handling. We will start by looking at some slightly more advanced data structures in a package called numpy before moving into a package called pandas.\n",
    "\n",
    "We will look at some standard ways to manipulate data and how to work on data files we might create, of obtain from third party sources.\n",
    "\n",
    "First, we will start with a quick recap of some basic data structures."
   ],
   "metadata": {
    "id": "WpexhiUwt5TD"
   }
  },
  {
   "cell_type": "markdown",
   "source": [
    "Copy this code into the cell below a bit at a time and check you understand what it is doing.\n",
    "\n",
    "```\n",
    "# Let's start by creating a list of numbers\n",
    "\n",
    "v = [1.2,3.5,4.4,5.2,6.7]\n",
    "print(f\"v : {v}\\n\")\n",
    "\n",
    "a = [v,v,[3,4,6,7,9]]\n",
    "print(f\"a : {a}\\n\")\n",
    "\n",
    "# let's try and multiply all the numbers in a by 2\n",
    "print(f\"a*2 {a*2}\\n\")\n",
    "\n",
    "# let's try again\n",
    "for i in a:\n",
    "  for j in i:\n",
    "    print(j*2)\n",
    "\n",
    "# well that kind of worked, but if you've used vectors and arrays in maths you know it's not really what I wanted.```\n",
    "\n"
   ],
   "metadata": {
    "id": "D0KMwShWCZOV"
   }
  },
  {
   "cell_type": "code",
   "source": [
    "# Copy the code into this cell\n",
    "\n"
   ],
   "metadata": {
    "id": "DVObFNjKuboV",
    "executionInfo": {
     "status": "ok",
     "timestamp": 1722702141891,
     "user_tz": -60,
     "elapsed": 247,
     "user": {
      "displayName": "Colin Paterson",
      "userId": "11890894921089994749"
     }
    }
   },
   "execution_count": 9,
   "outputs": []
  },
  {
   "cell_type": "markdown",
   "source": [
    "## NumPy\n",
    "Let me intructroduce numpy short for numerical py. We've seen how libraries can introduce functions that we reuse, well some packages (including numpy) also introduce new types to the language. These new types are aware of what their purpose is and and allow us to do clever things to them very quickly."
   ],
   "metadata": {
    "id": "B_xlDpL8vrbo"
   }
  },
  {
   "cell_type": "code",
   "source": [
    "# Let's first import our package and give it a short name np.\n",
    "import numpy as np\n",
    "\n",
    "# We can take the list we already created and convert it to an array like this.\n",
    "v2 = np.array(v)\n",
    "\n",
    "print(f\"Original {v} , multiplied array {v2*2}\")\n"
   ],
   "metadata": {
    "colab": {
     "base_uri": "https://localhost:8080/"
    },
    "id": "o8lDnSzUvqJA",
    "executionInfo": {
     "status": "ok",
     "timestamp": 1722702107392,
     "user_tz": -60,
     "elapsed": 260,
     "user": {
      "displayName": "Colin Paterson",
      "userId": "11890894921089994749"
     }
    },
    "outputId": "34d4a48d-0640-427d-97b3-b1fe002ce6dc"
   },
   "execution_count": 6,
   "outputs": []
  },
  {
   "cell_type": "code",
   "source": [
    "# and of course we can create 2 dimensional lists\n",
    "\n",
    "ar = np.array([[1.2, 2.3, 3.4],\n",
    "              [2.2, 3.2, 4.6],\n",
    "              [5.2, 1.2, 2.3]])\n",
    "print(f\"{ar=}\")\n",
    "print(f\"{ar*2=}\")"
   ],
   "metadata": {
    "colab": {
     "base_uri": "https://localhost:8080/"
    },
    "id": "UWENm-y5wsdX",
    "executionInfo": {
     "status": "ok",
     "timestamp": 1722702129208,
     "user_tz": -60,
     "elapsed": 253,
     "user": {
      "displayName": "Colin Paterson",
      "userId": "11890894921089994749"
     }
    },
    "outputId": "3086013e-adb4-427d-cd00-f8ee9c3e7e84"
   },
   "execution_count": 8,
   "outputs": []
  },
  {
   "cell_type": "code",
   "source": [
    "# we can also create arrays of a particular size using some special numpy functions.\n",
    "\n",
    "x1 = np.random.randint(10, size=6)\n",
    "x2 = np.random.randint(10, size=(2,2))\n",
    "\n",
    "\n",
    "print(x1)\n",
    "print(x2)\n",
    "\n",
    "# if you ever want to see the size of an array you can ask it's shape\n",
    "print(f\"shape of x1 : {x1.shape}\")  # 6 rows\n",
    "print(f\"shape of x2 : {x2.shape}\")  # 2 rows, 2 columns\n"
   ],
   "metadata": {
    "colab": {
     "base_uri": "https://localhost:8080/"
    },
    "id": "yx9aZIyVyfG5",
    "executionInfo": {
     "status": "ok",
     "timestamp": 1722251260025,
     "user_tz": -60,
     "elapsed": 17,
     "user": {
      "displayName": "Colin Paterson",
      "userId": "11890894921089994749"
     }
    },
    "outputId": "6493d6c9-3be7-4965-e00e-a2181bb5539a"
   },
   "execution_count": null,
   "outputs": []
  },
  {
   "cell_type": "code",
   "source": [
    "# Numpy gives us lots of tools for looking at data.\n",
    "# Let's start by creating an artificial set of data.\n",
    "# imagine we have surveyed 100 people and get their ages\n",
    "\n",
    "# Notice that lot's of functions have named parameters this allows is to\n",
    "# be a bit more descriptive in our\n",
    "\n",
    "ages = np.random.randint(low = 18, high= 70, size = 100)"
   ],
   "metadata": {
    "id": "i5-84Si9NepC"
   },
   "execution_count": null,
   "outputs": []
  },
  {
   "cell_type": "code",
   "source": [
    "# having created our data, what can we do with it?\n",
    "\n",
    "print(f\"Maximum age is {np.max(ages)}\")\n",
    "\n",
    "# Try the following np summary statistic functions\n",
    "# np.min()\n",
    "# np. std()\n",
    "# np.mean()\n",
    "# np.median()\n",
    "# np.size()\n",
    "\n",
    "# Remember the ? in Jupyter notebooks for help.\n"
   ],
   "metadata": {
    "colab": {
     "base_uri": "https://localhost:8080/"
    },
    "id": "YVP_PwaSORxC",
    "executionInfo": {
     "status": "ok",
     "timestamp": 1722251260025,
     "user_tz": -60,
     "elapsed": 16,
     "user": {
      "displayName": "Colin Paterson",
      "userId": "11890894921089994749"
     }
    },
    "outputId": "b966d5e2-ba20-4529-adff-f89e2e656a1b"
   },
   "execution_count": null,
   "outputs": []
  },
  {
   "cell_type": "code",
   "source": [
    "# We also have some nice data manipulation functions.\n",
    "# look at the following.\n",
    "\n",
    "arr = np.array([45, 32,19,99,67])\n",
    "arr.sort()\n",
    "print(arr)\n",
    "# notice doesn't applies in place, i.e. the array is sorted when we run the function\n",
    "# we don't need to allocate the output.\n",
    "\n",
    "# Try the following functions and see what they do.\n",
    "# remember that the environment will give you hints about parameters etc.\n",
    "\n",
    "# 1. reverse()\n",
    "# 2. append()\n",
    "# 3. pop()\n",
    "# 4. remove()\n",
    "\n"
   ],
   "metadata": {
    "colab": {
     "base_uri": "https://localhost:8080/"
    },
    "id": "dCAkfUsv9ktp",
    "executionInfo": {
     "status": "ok",
     "timestamp": 1722251260025,
     "user_tz": -60,
     "elapsed": 15,
     "user": {
      "displayName": "Colin Paterson",
      "userId": "11890894921089994749"
     }
    },
    "outputId": "03cf8e26-5785-44c5-9591-065e1f0e71b7"
   },
   "execution_count": null,
   "outputs": []
  },
  {
   "cell_type": "markdown",
   "source": [
    "## Data as tables\n",
    "\n",
    "So having seen how we can create an array of numbers it's not hard to see how this could be viewed as a table. Imagine a set of information about people where each row is a person and each column a feature, e.g. age, height, ...\n",
    "\n",
    "In this next section we will look at accessing information in the table and taking slices of the table to work with."
   ],
   "metadata": {
    "id": "7WR2Z_mbzjlm"
   }
  },
  {
   "cell_type": "code",
   "source": [
    "# Let's start by creating a table of random numbers which has 4 rows and 6 columns\n",
    "np.random.seed(0) # this is a little trick to make sure always get the same sequence from our random number generator\n",
    "tbl = np.random.randint(10, size=(4,6))\n",
    "print(tbl)\n",
    "\n",
    "# to access a single value from the table we will simply give it the row and column we want\n",
    "# notice that rows and columns are 0 indexed\n",
    "print(tbl[0,1])\n",
    "\n",
    "\n",
    "# change the values in the square brackets to check you understand what it happening."
   ],
   "metadata": {
    "colab": {
     "base_uri": "https://localhost:8080/"
    },
    "id": "8-l-L5TO0BUC",
    "executionInfo": {
     "status": "ok",
     "timestamp": 1722251260025,
     "user_tz": -60,
     "elapsed": 14,
     "user": {
      "displayName": "Colin Paterson",
      "userId": "11890894921089994749"
     }
    },
    "outputId": "8c4722e9-d7db-417e-d4e2-b4e9e357cec6"
   },
   "execution_count": null,
   "outputs": []
  },
  {
   "cell_type": "code",
   "source": [
    "# of course we might want more than just one element.\n",
    "\n",
    "# Can you explain what these do?\n",
    "\n",
    "print(tbl[:, 2])\n",
    "print(\"\")\n",
    "\n",
    "print(tbl[1, :])\n",
    "print(\"\")\n",
    "\n",
    "print(tbl[0:2, 1:4])\n",
    "print(\"\")\n",
    "\n",
    "print(tbl[0,3:])\n",
    "\n",
    "# What does the colon operator do?\n",
    "# are the paramters inclusive or exclusive?"
   ],
   "metadata": {
    "colab": {
     "base_uri": "https://localhost:8080/"
    },
    "id": "JaMOXa7e1FPP",
    "executionInfo": {
     "status": "ok",
     "timestamp": 1722251260025,
     "user_tz": -60,
     "elapsed": 12,
     "user": {
      "displayName": "Colin Paterson",
      "userId": "11890894921089994749"
     }
    },
    "outputId": "ec99e583-2bc9-497e-8dd5-b9f7f9ad1b30"
   },
   "execution_count": null,
   "outputs": []
  },
  {
   "cell_type": "markdown",
   "source": [
    "## Challenge"
   ],
   "metadata": {
    "id": "3WO7pGVlR_Aa"
   }
  },
  {
   "cell_type": "code",
   "source": [
    "# Challenge\n",
    "# Use the summary statistics you learnt earlier to find summaries (min max and mean) for\n",
    "# The whole table\n",
    "# Each Column\n",
    "# Each Row\n",
    "\n",
    "# Use loops and formatted printing to show your results\n",
    "\n"
   ],
   "metadata": {
    "id": "c5hNTzN6QecF",
    "executionInfo": {
     "status": "ok",
     "timestamp": 1722702249913,
     "user_tz": -60,
     "elapsed": 243,
     "user": {
      "displayName": "Colin Paterson",
      "userId": "11890894921089994749"
     }
    }
   },
   "execution_count": 10,
   "outputs": []
  },
  {
   "cell_type": "markdown",
   "source": [
    "# Pandas\n",
    "\n",
    "So we've seen some basic numeric arrays, let's turn our attention to pandas.\n",
    "\n",
    "Pandas is a module which specialises data table operations. You can think of it a little like Pythons version of Excel. So pretty much anything you would like to do in Excel can be done programatically in Python. But, you won't be surprised to hear, it's much more powerful."
   ],
   "metadata": {
    "id": "WqhYETRs2jNS"
   }
  },
  {
   "cell_type": "code",
   "source": [
    "# First, just like we converted a list to an array, let's turn an array into a pandas dataframe\n",
    "import pandas as pd\n",
    "\n",
    "# Uncomment the code create a data frame\n",
    "\n",
    "#df = pd.DataFrame(tbl)\n",
    "#print(df)\n",
    "#print(\"\")\n",
    "\n",
    "# you can see the same data we has as before but now every row and column has an id.\n",
    "# now let's try adding something meaningful to the column headings\n",
    "#df.columns = ['A', 'B', 'C', 'D', 'E', 'F']\n",
    "#print(df)\n",
    "#print(\"\")\n",
    "\n",
    "# note we could also have just said\n",
    "#df = pd.DataFrame(tbl, columns = ['A', 'B', 'C', 'D', 'E', 'F'])\n",
    "#print(df)\n",
    "#print(\"\")\n"
   ],
   "metadata": {
    "id": "jsoNI3qQ2PVe",
    "executionInfo": {
     "status": "ok",
     "timestamp": 1722702284025,
     "user_tz": -60,
     "elapsed": 591,
     "user": {
      "displayName": "Colin Paterson",
      "userId": "11890894921089994749"
     }
    }
   },
   "execution_count": 11,
   "outputs": []
  },
  {
   "cell_type": "code",
   "source": [
    "# Alternatively we can create a dataframe using a dictionary\n",
    "# Uncomment the code to see how this works\n",
    "\n",
    "\n",
    "#df = pd.DataFrame(tbl, columns = ['A', 'B', 'C', 'D', 'E', 'F'])\n",
    "#data = {'Name':['Alex', 'Bob', 'Charlie', 'Samj'],\n",
    "#        'Age':[27, 45, 22, 32],\n",
    "#        'Address':['London', 'Paris', 'York', 'Newcastle'],\n",
    "#        'Qualification':['Msc', 'MA', 'BEng', 'Phd']}\n",
    "\n",
    "#df = pd.DataFrame(data)\n",
    "#print(df)"
   ],
   "metadata": {
    "id": "fUGNrIvFOyfj",
    "executionInfo": {
     "status": "ok",
     "timestamp": 1722702299315,
     "user_tz": -60,
     "elapsed": 237,
     "user": {
      "displayName": "Colin Paterson",
      "userId": "11890894921089994749"
     }
    }
   },
   "execution_count": 12,
   "outputs": []
  },
  {
   "cell_type": "code",
   "source": [
    "# Because this is a pandas dataframe we also get access to some new special functions\n",
    "# Uncomment each of these and explain what they do\n",
    "\n",
    "# df.head(2)\n",
    "# df.loc[1:3, ['Name', 'Qualification']]\n",
    "\n",
    "# remember you can use the ? in Jupyter\n"
   ],
   "metadata": {
    "id": "zGisXMzZPWto"
   },
   "execution_count": null,
   "outputs": []
  },
  {
   "cell_type": "markdown",
   "source": [
    "# Score Book data\n",
    "\n",
    "Before you start running code cells in this part of the notebook you will need to upload three files: Scorebook.csv, Scorebook2.csv and Scorebook3.csv.\n",
    "\n",
    "These are simple comma separated value files that I created offline, imagine they came from a google form or Excel."
   ],
   "metadata": {
    "id": "HHgPLoRUAyKC"
   }
  },
  {
   "cell_type": "code",
   "source": [
    "# Pandas gives us a nive read_csv funtion which knows how to deal with files in this form\n",
    "\n",
    "\n",
    "df = pd.read_csv('ScoreBook.csv')\n",
    "\n",
    "# having read in the data we can look at the table\n",
    "print(df)"
   ],
   "metadata": {
    "colab": {
     "base_uri": "https://localhost:8080/"
    },
    "id": "Y_w6j1N4_K-2",
    "executionInfo": {
     "status": "ok",
     "timestamp": 1722251539730,
     "user_tz": -60,
     "elapsed": 237,
     "user": {
      "displayName": "Colin Paterson",
      "userId": "11890894921089994749"
     }
    },
    "outputId": "ea48146c-7227-4fa3-9bc4-dff390091a84"
   },
   "execution_count": null,
   "outputs": []
  },
  {
   "cell_type": "code",
   "source": [
    "# If we want to know some quick summary statistics for the table then we can use\n",
    "# the Pandas describe function.\n",
    "df.describe()"
   ],
   "metadata": {
    "colab": {
     "base_uri": "https://localhost:8080/",
     "height": 297
    },
    "id": "4Fhfy2oCKoo2",
    "executionInfo": {
     "status": "ok",
     "timestamp": 1722251540978,
     "user_tz": -60,
     "elapsed": 4,
     "user": {
      "displayName": "Colin Paterson",
      "userId": "11890894921089994749"
     }
    },
    "outputId": "61a2c29b-10ba-4b7c-ffae-ffa3f326e652"
   },
   "execution_count": null,
   "outputs": []
  },
  {
   "cell_type": "code",
   "source": [
    "# Acouple of notes.\n",
    "#\n",
    "# The first participant is only 4 characters while the others are 5.\n",
    "# The describe function is telling us the mean of the participant id. That makes no sense.\n",
    "# Similarly we are seeing preference as 0 and 1 and not True and False.\n",
    "#\n",
    "# Why?\n",
    "#\n",
    "# it's because the reader is trying to be helpful and assumes that the.columns\n",
    "# are integers. We can helpp pandas by giving it the correct data types\n",
    "\n",
    "df = pd.read_csv('ScoreBook.csv', dtype={'participant' : 'string', 'pref': 'bool'})\n",
    "df"
   ],
   "metadata": {
    "colab": {
     "base_uri": "https://localhost:8080/",
     "height": 359
    },
    "id": "TOPQxV5-hxjh",
    "executionInfo": {
     "status": "ok",
     "timestamp": 1722251542317,
     "user_tz": -60,
     "elapsed": 3,
     "user": {
      "displayName": "Colin Paterson",
      "userId": "11890894921089994749"
     }
    },
    "outputId": "03c2258e-bc75-4970-92f6-d965c80c1acc"
   },
   "execution_count": null,
   "outputs": []
  },
  {
   "cell_type": "code",
   "source": [
    "# Now let's run the describe function\n",
    "df.describe()"
   ],
   "metadata": {
    "colab": {
     "base_uri": "https://localhost:8080/",
     "height": 297
    },
    "id": "7indtY5cIXHW",
    "executionInfo": {
     "status": "ok",
     "timestamp": 1722251543472,
     "user_tz": -60,
     "elapsed": 5,
     "user": {
      "displayName": "Colin Paterson",
      "userId": "11890894921089994749"
     }
    },
    "outputId": "08845347-0dda-4833-8d8c-226158cffa80"
   },
   "execution_count": null,
   "outputs": []
  },
  {
   "cell_type": "code",
   "source": [
    "# Of course I brought in this data because I want to manipulate it.\n",
    "#\n",
    "# I want to create a new column on this data which is the calculated\n",
    "# from the values in other columns. Mayve we have a weight 'total' score\n",
    "# where  score 3 is worth twice as much as the other two\n",
    "\n",
    "\n",
    "df['total'] = df['score_1'] + df['score_2'] + df['score_3']*2\n",
    "\n",
    "\n",
    "# Putting the name of a new column in the square brackets says we are\n",
    "# going to add a column using whatever is on the right side of the\n",
    "# = sign.\n",
    "\n",
    "# I also want the total as a percentage\n",
    "\n",
    "df['percentage'] = df['total']/4\n",
    "\n",
    "print(df)"
   ],
   "metadata": {
    "colab": {
     "base_uri": "https://localhost:8080/"
    },
    "id": "l8Ns9jUjAXbl",
    "executionInfo": {
     "status": "ok",
     "timestamp": 1722251545190,
     "user_tz": -60,
     "elapsed": 218,
     "user": {
      "displayName": "Colin Paterson",
      "userId": "11890894921089994749"
     }
    },
    "outputId": "d8d01784-a01b-41a3-c556-a455a05fd572"
   },
   "execution_count": null,
   "outputs": []
  },
  {
   "cell_type": "code",
   "source": [
    "# Sometimes you might wantto delete a column. Maybe it's confidential and you\n",
    "# want to remove it before to circulate the data.\n",
    "\n",
    "# To drop a column,  we need to give it the name of the column and an axis of 1, whch means column\n",
    "\n",
    "df.drop(['age'], axis=1)\n",
    "print(df)"
   ],
   "metadata": {
    "colab": {
     "base_uri": "https://localhost:8080/"
    },
    "id": "rRO2ufEVBIX5",
    "executionInfo": {
     "status": "ok",
     "timestamp": 1722251549359,
     "user_tz": -60,
     "elapsed": 236,
     "user": {
      "displayName": "Colin Paterson",
      "userId": "11890894921089994749"
     }
    },
    "outputId": "96cd049a-6f7d-427d-913d-90e8b5edc88f"
   },
   "execution_count": null,
   "outputs": []
  },
  {
   "cell_type": "code",
   "source": [
    "# Well that didn't seem to work! Why not?\n",
    "\n",
    "# The answer is that the drop function doesn't change the data frame. It\n",
    "# returns a dataframe where the column has been dropped.\n",
    "\n",
    "df_noage = df.drop(['age'], axis=1)\n",
    "print(df_noage)"
   ],
   "metadata": {
    "colab": {
     "base_uri": "https://localhost:8080/"
    },
    "id": "_mHsE0LVKZkX",
    "executionInfo": {
     "status": "ok",
     "timestamp": 1722251552168,
     "user_tz": -60,
     "elapsed": 229,
     "user": {
      "displayName": "Colin Paterson",
      "userId": "11890894921089994749"
     }
    },
    "outputId": "34bc2eb8-327b-4994-decc-bc3389d27f5c"
   },
   "execution_count": null,
   "outputs": []
  },
  {
   "cell_type": "code",
   "source": [
    "# Of course we might also want to remove rows from the data set.\n",
    "# Maybe there is an individual who has removed consent.\n",
    "\n",
    "# Here we change to axis=0 which means row.\n",
    "# the number in the square brackets is the row index.\n",
    "result = df_noage.drop([3], axis=0)\n",
    "\n",
    "print(result)"
   ],
   "metadata": {
    "colab": {
     "base_uri": "https://localhost:8080/"
    },
    "id": "2VYQ0wS5H_4i",
    "executionInfo": {
     "status": "ok",
     "timestamp": 1722251556956,
     "user_tz": -60,
     "elapsed": 235,
     "user": {
      "displayName": "Colin Paterson",
      "userId": "11890894921089994749"
     }
    },
    "outputId": "5badca8a-9819-4acb-a357-0d11af33633f"
   },
   "execution_count": null,
   "outputs": []
  },
  {
   "cell_type": "code",
   "source": [
    "# Removing a row by row number is fine, but we might end up shuffling row numbers\n",
    "# it would be better to use information in the row.\n",
    "# for example the participant id,\n",
    "# This takes a little explaining, so bear with me.\n",
    "\n",
    "# Firstly we can get a simple boolean check to see if a value in a column matches a value we are interested in\n",
    "df['participant'] == '46923'\n",
    "\n",
    "# notice this is run for every row, we don't need a loop, that's one of the\n",
    "# powerful things about pandas. Removing the loops makes it quick for even quite\n",
    "# large data sets."
   ],
   "metadata": {
    "colab": {
     "base_uri": "https://localhost:8080/"
    },
    "id": "WToLNZhSjFEt",
    "executionInfo": {
     "status": "ok",
     "timestamp": 1722251563763,
     "user_tz": -60,
     "elapsed": 224,
     "user": {
      "displayName": "Colin Paterson",
      "userId": "11890894921089994749"
     }
    },
    "outputId": "d176eb04-3dd6-4f42-a4c4-b8bc92805c61"
   },
   "execution_count": null,
   "outputs": []
  },
  {
   "cell_type": "code",
   "source": [
    "# if we pass this list of booleans into the dataframe we get\n",
    "\n",
    "df[df['participant']== '46923']\n",
    "\n",
    "# ie. It will return the rows where the boolean is a True."
   ],
   "metadata": {
    "colab": {
     "base_uri": "https://localhost:8080/",
     "height": 80
    },
    "id": "Jr77Hw41jzs1",
    "executionInfo": {
     "status": "ok",
     "timestamp": 1722251567829,
     "user_tz": -60,
     "elapsed": 226,
     "user": {
      "displayName": "Colin Paterson",
      "userId": "11890894921089994749"
     }
    },
    "outputId": "bbef31c1-a9f1-4765-d7b8-a4a2963de141"
   },
   "execution_count": null,
   "outputs": []
  },
  {
   "cell_type": "code",
   "source": [
    "# Then we can ask for the index of this row\n",
    "idx = df[df['participant']== '46923'].index\n",
    "print(f\"Index : {idx.values}\")\n"
   ],
   "metadata": {
    "colab": {
     "base_uri": "https://localhost:8080/"
    },
    "id": "a2k65d-MkCl3",
    "executionInfo": {
     "status": "ok",
     "timestamp": 1722251644302,
     "user_tz": -60,
     "elapsed": 454,
     "user": {
      "displayName": "Colin Paterson",
      "userId": "11890894921089994749"
     }
    },
    "outputId": "8ec5d061-647b-4b37-e2f4-dcc52c522236"
   },
   "execution_count": null,
   "outputs": []
  },
  {
   "cell_type": "code",
   "source": [
    "# Having got the index we can now drop the\n",
    "# participant that is a problem and save the new data set\n",
    "\n",
    "df_dropped_person = df.drop(idx)\n",
    "print(df_dropped_person)"
   ],
   "metadata": {
    "colab": {
     "base_uri": "https://localhost:8080/"
    },
    "id": "ZbVBKdAxkkjJ",
    "executionInfo": {
     "status": "ok",
     "timestamp": 1722251260476,
     "user_tz": -60,
     "elapsed": 11,
     "user": {
      "displayName": "Colin Paterson",
      "userId": "11890894921089994749"
     }
    },
    "outputId": "70822a55-8fc6-4193-a123-039b4f503993"
   },
   "execution_count": null,
   "outputs": []
  },
  {
   "cell_type": "code",
   "source": [
    "# Of course this isn't just about deleting rows. This kind of search functionality can\n",
    "# be really useful in finding subsets of the data.\n",
    "#\n",
    "# Why are we doing it this complicated way, well the reason is that we can select\n",
    "# multiple lines\n",
    "\n",
    "older = df[df['age'] >= 30]\n",
    "younger = df[df['age']<30]\n",
    "\n",
    "print('Older participants')\n",
    "print(older)\n",
    "print()\n",
    "print('Younger participants')\n",
    "print(younger)"
   ],
   "metadata": {
    "colab": {
     "base_uri": "https://localhost:8080/"
    },
    "id": "gqfmsQNxkWZg",
    "executionInfo": {
     "status": "ok",
     "timestamp": 1722251756901,
     "user_tz": -60,
     "elapsed": 226,
     "user": {
      "displayName": "Colin Paterson",
      "userId": "11890894921089994749"
     }
    },
    "outputId": "93115187-1570-4f67-9e85-2b7bc3a5d15f"
   },
   "execution_count": null,
   "outputs": []
  },
  {
   "cell_type": "code",
   "source": [
    "# And if you need to you could of course create a function to drop\n",
    "# if you find yourself wanting to do this lots then remember you\n",
    "# can always write a function to drop rows based on a columns value\n",
    "\n",
    "def drop_row(df, value, col_name='participant'):\n",
    "  idx = df[df[col_name]== value].index\n",
    "  df2 = df.drop(idx)\n",
    "  return df2\n",
    "\n",
    "result = drop_row(df, '46923')\n",
    "result = drop_row(result, '85243')\n",
    "result = drop_row(result, '10674')\n",
    "\n",
    "print(result)"
   ],
   "metadata": {
    "colab": {
     "base_uri": "https://localhost:8080/"
    },
    "id": "H8VWecg8k2_P",
    "executionInfo": {
     "status": "ok",
     "timestamp": 1722251880228,
     "user_tz": -60,
     "elapsed": 284,
     "user": {
      "displayName": "Colin Paterson",
      "userId": "11890894921089994749"
     }
    },
    "outputId": "41ebc1bd-c9ef-49e6-f4ee-0e4cb978baf9"
   },
   "execution_count": null,
   "outputs": []
  },
  {
   "cell_type": "markdown",
   "source": [
    "## Saving your data\n",
    "\n",
    "Having made these changes let's write the data to a new file so we can distribute it."
   ],
   "metadata": {
    "id": "Kv555dMGN7bb"
   }
  },
  {
   "cell_type": "code",
   "source": [
    "# having edited our file, let's save it.\n",
    "# remember you'll need to download it from jupyter if you want to keep it.\n",
    "result.to_csv('new_score_book.csv', encoding='utf-8')\n",
    "\n",
    "# Once you've saved it download it and open it in Excel."
   ],
   "metadata": {
    "id": "-v2ZIdS3L8D4"
   },
   "execution_count": null,
   "outputs": []
  },
  {
   "cell_type": "code",
   "source": [
    "# Before we move on I just want to highlight a useful function for when you're\n",
    "# reading in some data. You might find that the column names are a bit cumbersome,\n",
    "# especially when you want to include them in lines of code.\n",
    "\n",
    "\n",
    "# In that case we can rename them to something more friendly.\n",
    "\n",
    "\n",
    "df = df.rename(columns={\"participant\":\"id\", \"pref\":\"preference\"})\n",
    "print(df.head(2))"
   ],
   "metadata": {
    "colab": {
     "base_uri": "https://localhost:8080/"
    },
    "id": "5I3oEoH5Nf4_",
    "executionInfo": {
     "status": "ok",
     "timestamp": 1722252194711,
     "user_tz": -60,
     "elapsed": 245,
     "user": {
      "displayName": "Colin Paterson",
      "userId": "11890894921089994749"
     }
    },
    "outputId": "a20c0ff0-f8b3-4a97-cf13-852769e505cb"
   },
   "execution_count": null,
   "outputs": []
  },
  {
   "cell_type": "code",
   "source": [
    "# So a few time now I've used the df = df.... form of a function.\n",
    "# We can force what is called inplace operations for quite a few\n",
    "# pandas fucntions like this.\n",
    "\n",
    "df.rename(columns={ df.columns[2]: \"pref\" }, inplace=True)\n",
    "print(df.head(2))"
   ],
   "metadata": {
    "colab": {
     "base_uri": "https://localhost:8080/"
    },
    "id": "4w3XMm32YFsC",
    "executionInfo": {
     "status": "ok",
     "timestamp": 1722253562121,
     "user_tz": -60,
     "elapsed": 262,
     "user": {
      "displayName": "Colin Paterson",
      "userId": "11890894921089994749"
     }
    },
    "outputId": "f4fe6b70-f6c8-4880-e88d-905b7bc416ee"
   },
   "execution_count": null,
   "outputs": []
  },
  {
   "cell_type": "markdown",
   "source": [
    "## Combining Files\n",
    "\n",
    "Of course sometimes our data is split between multiple sources and we need to combine them. In this next section we are goingto look at the different forms of combination we can do in Pandas."
   ],
   "metadata": {
    "id": "UZpzjM_lT_Os"
   }
  },
  {
   "cell_type": "code",
   "source": [
    "# Let's start by loading in a second data file\n",
    "# and having a look at it.\n",
    "\n",
    "df_city = pd.read_csv('ScoreBook2.csv', dtype={'participant' : 'string'})\n",
    "df_city = df_city.rename(columns={\"participant\":\"id\"})\n",
    "df_city\n",
    "\n",
    "# You can see that this is the city assocaited with each participant\n",
    "# Notice that I renamed the id column that we are going to match to the\n",
    "# first data set."
   ],
   "metadata": {
    "colab": {
     "base_uri": "https://localhost:8080/",
     "height": 359
    },
    "id": "EMcoxFfeN7-_",
    "executionInfo": {
     "status": "ok",
     "timestamp": 1722255871288,
     "user_tz": -60,
     "elapsed": 257,
     "user": {
      "displayName": "Colin Paterson",
      "userId": "11890894921089994749"
     }
    },
    "outputId": "8baccc82-08a6-48ad-ec92-80f963a41a50"
   },
   "execution_count": null,
   "outputs": []
  },
  {
   "cell_type": "code",
   "source": [
    "# Join Data Sets, Commonly we will have two files we need to join them\n",
    "# using the 'merge' function.\n",
    "\n",
    "result = pd.merge(df, df_city, on='id')\n",
    "print(result)"
   ],
   "metadata": {
    "colab": {
     "base_uri": "https://localhost:8080/"
    },
    "id": "EhY3lxy9PMwF",
    "executionInfo": {
     "status": "ok",
     "timestamp": 1722255974010,
     "user_tz": -60,
     "elapsed": 266,
     "user": {
      "displayName": "Colin Paterson",
      "userId": "11890894921089994749"
     }
    },
    "outputId": "97a34577-eda2-4604-e77d-7996d10fe6aa"
   },
   "execution_count": null,
   "outputs": []
  },
  {
   "cell_type": "code",
   "source": [
    "# Well that was nice because the data was well behaved.\n",
    "# what about this?\n",
    "\n",
    "df_missingone = drop_row(df, '61378', col_name='id')\n",
    "df_missingone\n",
    "\n",
    "result = pd.merge(df_missingone, df_city, on='id')\n",
    "result\n",
    "\n",
    "# Notice that we lose a row from the data set.\n",
    "# not only that but the resulting data set has had a new set\n",
    "# of row numbers generated."
   ],
   "metadata": {
    "colab": {
     "base_uri": "https://localhost:8080/",
     "height": 328
    },
    "id": "DCI8pNT2ORpI",
    "executionInfo": {
     "status": "ok",
     "timestamp": 1722255949042,
     "user_tz": -60,
     "elapsed": 5,
     "user": {
      "displayName": "Colin Paterson",
      "userId": "11890894921089994749"
     }
    },
    "outputId": "9a2df3d0-394b-4df2-cbf0-62c5bf2bd15f"
   },
   "execution_count": null,
   "outputs": []
  },
  {
   "cell_type": "code",
   "source": [
    "# if we want to keep all the rows then we can use the 'how'\n",
    "# parameter, obviously there is no data for the extra participants apart from\n",
    "# the city and therefore the data is replaced with NaN (not a number) which\n",
    "# we can interpret as missing.\n",
    "\n",
    "result = pd.merge(df_missingone, df_city, on='id', how='outer')\n",
    "print(result)"
   ],
   "metadata": {
    "colab": {
     "base_uri": "https://localhost:8080/"
    },
    "id": "bAMc0ctA_uzM",
    "executionInfo": {
     "status": "ok",
     "timestamp": 1722256053411,
     "user_tz": -60,
     "elapsed": 251,
     "user": {
      "displayName": "Colin Paterson",
      "userId": "11890894921089994749"
     }
    },
    "outputId": "18d7fdec-5a0c-4b07-e6c9-ed83e2132c12"
   },
   "execution_count": null,
   "outputs": []
  },
  {
   "cell_type": "code",
   "source": [
    "# Let's try that again but this time drop a row from the city data set\n",
    "\n",
    "missing_city = drop_row(df_city, '61378', col_name='id')\n",
    "result = pd.merge(df, missing_city, on='id', how='outer')\n",
    "result"
   ],
   "metadata": {
    "colab": {
     "base_uri": "https://localhost:8080/",
     "height": 359
    },
    "id": "GBP1p3DuAK8u",
    "executionInfo": {
     "status": "ok",
     "timestamp": 1722256094255,
     "user_tz": -60,
     "elapsed": 249,
     "user": {
      "displayName": "Colin Paterson",
      "userId": "11890894921089994749"
     }
    },
    "outputId": "ced4da9c-9676-43b4-c107-e5b1dd718300"
   },
   "execution_count": null,
   "outputs": []
  },
  {
   "cell_type": "markdown",
   "source": [
    "## Adding new rows.\n",
    "\n",
    "Sometimes we simply want to add more rows to an existing set. Maybe the data collection was undertaken over multiple days, or by multiple people.\n"
   ],
   "metadata": {
    "id": "VmDXU3F3Ls3P"
   }
  },
  {
   "cell_type": "code",
   "source": [
    "# Let's start by reading in the two csv files we are interested in.\n",
    "\n",
    "df_first = pd.read_csv('ScoreBook.csv', dtype={'participant' : 'string'})\n",
    "df_first = df_first.rename(columns={\"participant\":\"id\"})\n",
    "df_first\n",
    "\n",
    "df_second = pd.read_csv('ScoreBook3.csv', dtype={'participant' : 'string'})\n",
    "df_second = df_second.rename(columns={\"participant\":\"id\"})\n",
    "df_second\n",
    "\n",
    "# Next check that they have the same number of columns?\n",
    "\n",
    "print(f\"shape 1 {df_first.shape}\")\n",
    "print(f\"shape 2 {df_second.shape}\")\n",
    "print()\n",
    "\n",
    "print(df_second)"
   ],
   "metadata": {
    "colab": {
     "base_uri": "https://localhost:8080/"
    },
    "id": "AlbOepqnL55-",
    "executionInfo": {
     "status": "ok",
     "timestamp": 1722256275731,
     "user_tz": -60,
     "elapsed": 219,
     "user": {
      "displayName": "Colin Paterson",
      "userId": "11890894921089994749"
     }
    },
    "outputId": "ba18a85d-e9d7-434f-a329-2596b0462b3d"
   },
   "execution_count": null,
   "outputs": []
  },
  {
   "cell_type": "code",
   "source": [
    "# Now we can do the work we need to and join the two files together using the concat function\n",
    "df_full = pd.concat([df_first,df_second])\n",
    "print(df_full.shape)\n",
    "print()\n",
    "\n",
    "# Now let's that a look at the dataframe\n",
    "print(df_full)"
   ],
   "metadata": {
    "colab": {
     "base_uri": "https://localhost:8080/"
    },
    "id": "l_Vh_BZ2NBWK",
    "executionInfo": {
     "status": "ok",
     "timestamp": 1722256369661,
     "user_tz": -60,
     "elapsed": 344,
     "user": {
      "displayName": "Colin Paterson",
      "userId": "11890894921089994749"
     }
    },
    "outputId": "c70f4189-1ef1-4cc8-a542-2e3c5107a171"
   },
   "execution_count": null,
   "outputs": []
  },
  {
   "cell_type": "code",
   "source": [
    "# oops, it looks like the row numbers are being reused.\n",
    "# well we can fix that.\n",
    "\n",
    "df_full = pd.concat([df_first,df_second], ignore_index=True)\n",
    "print(df_full)"
   ],
   "metadata": {
    "colab": {
     "base_uri": "https://localhost:8080/"
    },
    "id": "NWWG5TC1OSbG",
    "executionInfo": {
     "status": "ok",
     "timestamp": 1722256425312,
     "user_tz": -60,
     "elapsed": 3,
     "user": {
      "displayName": "Colin Paterson",
      "userId": "11890894921089994749"
     }
    },
    "outputId": "9c171274-4629-453e-844f-f73b69e38453"
   },
   "execution_count": null,
   "outputs": []
  },
  {
   "cell_type": "code",
   "source": [
    "# Now Pandas can undertake a massive amount of manipulation and I'll leave that\n",
    "# for another day (or you own investigation) but let me show you something\n",
    "# useful\n",
    "\n",
    "# Data Aggregation and grouping\n",
    "#\n",
    "# we might well want to group our data and get information.\n",
    "# here we want to know how many preople live in each city (for our earlier tables.).\n",
    "# so we will group the participants by city and then count how many in each group\n",
    "\n",
    "print(result)\n",
    "\n",
    "\n",
    "s = result.groupby('city').count()\n",
    "print(s)"
   ],
   "metadata": {
    "colab": {
     "base_uri": "https://localhost:8080/"
    },
    "id": "8QeRDkPDOmGU",
    "executionInfo": {
     "status": "ok",
     "timestamp": 1722256798819,
     "user_tz": -60,
     "elapsed": 246,
     "user": {
      "displayName": "Colin Paterson",
      "userId": "11890894921089994749"
     }
    },
    "outputId": "e35e42c6-01bc-46e4-fe15-f3dc1c8e58ae"
   },
   "execution_count": null,
   "outputs": []
  },
  {
   "cell_type": "code",
   "source": [
    "# As well as count we can add things up for each group using the sum function\n",
    "\n",
    "s = result.groupby('city').agg('sum')\n",
    "print(s)"
   ],
   "metadata": {
    "colab": {
     "base_uri": "https://localhost:8080/"
    },
    "id": "dm-aY-b3IwjR",
    "executionInfo": {
     "status": "ok",
     "timestamp": 1722257372302,
     "user_tz": -60,
     "elapsed": 305,
     "user": {
      "displayName": "Colin Paterson",
      "userId": "11890894921089994749"
     }
    },
    "outputId": "2a810c33-59a5-4abb-c8d2-ea96c5047200"
   },
   "execution_count": null,
   "outputs": []
  },
  {
   "cell_type": "code",
   "source": [
    "# Finally you might want to group by more than one column.\n",
    "# let's try that\n",
    "\n",
    "s = result.groupby(['city', 'pref']).agg('sum')\n",
    "print(s)\n",
    "\n",
    "\n",
    "# and of course we could just look at a single column of the result\n",
    "print(\"------ age column only ------\")\n",
    "print(s['age'])\n",
    "\n"
   ],
   "metadata": {
    "colab": {
     "base_uri": "https://localhost:8080/"
    },
    "id": "hWCx0m8TILJw",
    "executionInfo": {
     "status": "ok",
     "timestamp": 1722257361803,
     "user_tz": -60,
     "elapsed": 224,
     "user": {
      "displayName": "Colin Paterson",
      "userId": "11890894921089994749"
     }
    },
    "outputId": "04af6861-2da4-470a-ccc9-cc5e638907f9"
   },
   "execution_count": null,
   "outputs": []
  },
  {
   "cell_type": "code",
   "source": [
    "# Just before we finish this bit, let's try and get the mean of the columns when grouped\n",
    "\n",
    "# s = result.groupby(['city', 'pref']).agg('mean')\n",
    "\n",
    "\n",
    "# This throws and error telling us that we can't use mean on string data.\n",
    "# Well all we wanted was the mean of age and total so un comment the next line\n",
    "# and comment out the previous code\n",
    "\n",
    "s = result.groupby(['city', 'pref'])[['age', 'total']].agg('mean')\n",
    "print(s)\n",
    "\n",
    "# if you want to see more of this kind of operation search the internet for\n",
    "# Pandas grouping and aggregation.\n"
   ],
   "metadata": {
    "colab": {
     "base_uri": "https://localhost:8080/"
    },
    "id": "d9dhEm83iZXp",
    "executionInfo": {
     "status": "ok",
     "timestamp": 1722257573714,
     "user_tz": -60,
     "elapsed": 245,
     "user": {
      "displayName": "Colin Paterson",
      "userId": "11890894921089994749"
     }
    },
    "outputId": "d74ab41a-3739-43a5-9f3a-4a8221b33a6e"
   },
   "execution_count": null,
   "outputs": []
  },
  {
   "cell_type": "markdown",
   "source": [],
   "metadata": {
    "id": "FW-JidtOiZFD"
   }
  },
  {
   "cell_type": "markdown",
   "source": [
    "# NHS Data"
   ],
   "metadata": {
    "id": "Iic_6UrrApj4"
   }
  },
  {
   "cell_type": "markdown",
   "source": [
    "In this section I'm going to make use of some data taken from the internet.\n",
    "You can find the compelte dataset at the nhs website, but I've created a smaller\n",
    "set from this data and put it on my university website for convenience.\n",
    "\n",
    "https://data.england.nhs.uk/dataset/a-e-synthetic-data\n",
    "\n",
    "https://www-users.york.ac.uk/~cap508/resources/NHS_Sample.csv\n",
    "\n"
   ],
   "metadata": {
    "id": "WLP4hvHs3zAs"
   }
  },
  {
   "cell_type": "code",
   "execution_count": null,
   "metadata": {
    "id": "79ityltB2Mfb"
   },
   "outputs": [],
   "source": [
    "# Because this data has been put onto a website Pandas gives us the opportunity\n",
    "# to load it directly from the url\n",
    "\n",
    "url = 'https://www-users.york.ac.uk/~cap508/resources/NHS_Sample.csv'\n",
    "\n",
    "df = pd.read_csv(url)"
   ]
  },
  {
   "cell_type": "code",
   "source": [
    "# What is in this data set? The columns command will give you the name of each column\n",
    "\n",
    "print(df.columns)"
   ],
   "metadata": {
    "colab": {
     "base_uri": "https://localhost:8080/"
    },
    "id": "PDM0wLhg2SDN",
    "executionInfo": {
     "status": "ok",
     "timestamp": 1722257821000,
     "user_tz": -60,
     "elapsed": 308,
     "user": {
      "displayName": "Colin Paterson",
      "userId": "11890894921089994749"
     }
    },
    "outputId": "d55ee38c-45f0-48cf-f916-dc34c6754c79"
   },
   "execution_count": null,
   "outputs": []
  },
  {
   "cell_type": "code",
   "source": [
    "# The head command will show is the top of the data frame, can you guess how you might see the bottom?\n",
    "\n",
    "df.head(10)\n",
    "\n"
   ],
   "metadata": {
    "colab": {
     "base_uri": "https://localhost:8080/",
     "height": 566
    },
    "id": "SkvlRPEL2SH1",
    "executionInfo": {
     "status": "ok",
     "timestamp": 1722257827422,
     "user_tz": -60,
     "elapsed": 394,
     "user": {
      "displayName": "Colin Paterson",
      "userId": "11890894921089994749"
     }
    },
    "outputId": "7b97115e-a9e5-4543-cec2-fa52ca6022b4"
   },
   "execution_count": null,
   "outputs": []
  },
  {
   "cell_type": "code",
   "source": [
    "# If we only want to see part of the data we can use range command\n",
    "\n",
    "df[3:5] # How only rows 3 to 5, notice that the upper bound is non-inclusive"
   ],
   "metadata": {
    "colab": {
     "base_uri": "https://localhost:8080/",
     "height": 182
    },
    "id": "sVWWNWBgM94V",
    "executionInfo": {
     "status": "ok",
     "timestamp": 1722257849843,
     "user_tz": -60,
     "elapsed": 263,
     "user": {
      "displayName": "Colin Paterson",
      "userId": "11890894921089994749"
     }
    },
    "outputId": "2bfdcffe-9ed7-4281-d9a7-f8cb84b7ffaf"
   },
   "execution_count": null,
   "outputs": []
  },
  {
   "cell_type": "code",
   "source": [
    "df.loc[0:5,[\"AE_Arrive_Date\", \"AE_HRG\"]]"
   ],
   "metadata": {
    "colab": {
     "base_uri": "https://localhost:8080/",
     "height": 235
    },
    "id": "6SJJR1SjNIoK",
    "executionInfo": {
     "status": "ok",
     "timestamp": 1722257854412,
     "user_tz": -60,
     "elapsed": 249,
     "user": {
      "displayName": "Colin Paterson",
      "userId": "11890894921089994749"
     }
    },
    "outputId": "5c8a79ea-5b5a-4571-f090-d267f030fc56"
   },
   "execution_count": null,
   "outputs": []
  },
  {
   "cell_type": "code",
   "source": [
    "# Of course we can also use the filtering commands we saw earlier\n",
    "\n",
    "df[df.AE_HRG == \"Nothing\"]"
   ],
   "metadata": {
    "colab": {
     "base_uri": "https://localhost:8080/",
     "height": 626
    },
    "id": "xOsOs7bMNd0v",
    "executionInfo": {
     "status": "ok",
     "timestamp": 1722257890862,
     "user_tz": -60,
     "elapsed": 249,
     "user": {
      "displayName": "Colin Paterson",
      "userId": "11890894921089994749"
     }
    },
    "outputId": "3d5223a7-7ebd-43bf-9d48-a69baac3d44c"
   },
   "execution_count": null,
   "outputs": []
  },
  {
   "cell_type": "code",
   "source": [
    "# We can then use this to select information. So the qustion might be\n",
    "# what is the hour of the day for people haveing an AE_Time of > 200\n",
    "\n",
    "subset = df[df.AE_Time_Mins > 200]\n",
    "print(f\"{subset.shape[0]} patients had a wait of over 200 minutes\")\n",
    "print(\"Here are their arival times\")\n",
    "print(subset.loc[:,['AE_Arrive_HourOfDay', 'AE_Time_Mins']])\n",
    "\n"
   ],
   "metadata": {
    "id": "4yrIkUIkOiq5",
    "colab": {
     "base_uri": "https://localhost:8080/"
    },
    "executionInfo": {
     "status": "ok",
     "timestamp": 1722257921921,
     "user_tz": -60,
     "elapsed": 255,
     "user": {
      "displayName": "Colin Paterson",
      "userId": "11890894921089994749"
     }
    },
    "outputId": "2329a59a-9349-4706-c187-e9dc65d07834"
   },
   "execution_count": null,
   "outputs": []
  },
  {
   "cell_type": "code",
   "source": [
    "# There is also a very useful command called query\n",
    "# to cover it in detail is a bi much but you should know it exists.\n",
    "\n",
    "df.query('AE_Time_Mins > 200 and AE_Num_Diagnoses == 2 and AE_Num_Investigations > 3')\n"
   ],
   "metadata": {
    "colab": {
     "base_uri": "https://localhost:8080/",
     "height": 470
    },
    "id": "fCb0Ettr-QTg",
    "executionInfo": {
     "status": "ok",
     "timestamp": 1722257939692,
     "user_tz": -60,
     "elapsed": 252,
     "user": {
      "displayName": "Colin Paterson",
      "userId": "11890894921089994749"
     }
    },
    "outputId": "6f4dafd3-a162-4b81-f65f-9f8bab504523"
   },
   "execution_count": null,
   "outputs": []
  },
  {
   "cell_type": "code",
   "source": [
    "# We can then just look at the columns we are interested in\n",
    "df.query('AE_Time_Mins > 200 and AE_Num_Diagnoses == 2 and AE_Num_Investigations > 3')[[\"Age_Band\", \"AE_Num_Treatments\"]]\n",
    "\n",
    "\n",
    "# So the first bit returns the subset of data then the next bit says these are the columns we want to see."
   ],
   "metadata": {
    "colab": {
     "base_uri": "https://localhost:8080/",
     "height": 297
    },
    "id": "Eh0cV_Ar7H6V",
    "executionInfo": {
     "status": "ok",
     "timestamp": 1722257949218,
     "user_tz": -60,
     "elapsed": 267,
     "user": {
      "displayName": "Colin Paterson",
      "userId": "11890894921089994749"
     }
    },
    "outputId": "a4e918fa-594e-4a01-8188-3b995c168964"
   },
   "execution_count": null,
   "outputs": []
  },
  {
   "cell_type": "markdown",
   "source": [
    "That's it for this work sheet. Next we're going to move onto visualising data which is great for creating graphs for use in your presentaions, reports and papers."
   ],
   "metadata": {
    "id": "O7GPNNoJSSzq"
   }
  },
  {
   "cell_type": "code",
   "source": [],
   "metadata": {
    "id": "TJVNi0WvlDVo"
   },
   "execution_count": null,
   "outputs": []
  }
 ]
}