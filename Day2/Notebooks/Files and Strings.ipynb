{
 "nbformat": 4,
 "nbformat_minor": 0,
 "metadata": {
  "colab": {
   "provenance": [],
   "authorship_tag": "ABX9TyOvkExCHa1PlbcSo3M6sPKd"
  },
  "kernelspec": {
   "name": "python3",
   "display_name": "Python 3"
  },
  "language_info": {
   "name": "python"
  }
 },
 "cells": [
  {
   "cell_type": "code",
   "source": [
    "# Something useful ...\n",
    "# want to know what parameters a function takes? well try the following.\n",
    "\n",
    "print?"
   ],
   "metadata": {
    "id": "GQJF5LRi_WXU"
   },
   "execution_count": null,
   "outputs": []
  },
  {
   "cell_type": "markdown",
   "source": [
    "# Introduction\n",
    "- Entering simple python\n",
    "- executing cells\n",
    "- adding new cells\n",
    " + text\n",
    " + code\n",
    "- Markdown Cheatsheet : [Link](https://sqlbak.com/blog/wp-content/uploads/2020/12/Jupyter-Notebook-Markdown-Cheatsheet2.pdf)\n",
    "\n",
    "# Python packages\n",
    "\n",
    "Having got to grips with te basics of Python I want to look at some useful things we can do in Python to make utilities.\n",
    "\n",
    "Often I have written scripts to automate tasks and in this worksheet I'm going to look at a few things that are useful in building little utility programs."
   ],
   "metadata": {
    "id": "uMhIT8Ro1O67"
   }
  },
  {
   "cell_type": "markdown",
   "source": [
    "# String Manipulation\n",
    "\n",
    "Often we find outselves having to manipulate text data so I thought we could start by looking at a few things we can do to chop strings up, combine them, search them etc."
   ],
   "metadata": {
    "id": "qlmQ2rxqb2eq"
   }
  },
  {
   "cell_type": "code",
   "source": [
    "# Here are a few example strings for us to work with.\n",
    "\n",
    "s1 = \"this is a long and complicated string. It has multiple sentances (and brackets).\"\n",
    "s2 = \"[1, 2.3, 4.5, 6.7]\"\n",
    "s3 = \"String with a {token} for you to replace. And another one {token}.\"\n",
    "s4 = \"     some text in a string.   \""
   ],
   "metadata": {
    "id": "I6OP6MuRbapa",
    "executionInfo": {
     "status": "ok",
     "timestamp": 1722701128904,
     "user_tz": -60,
     "elapsed": 6,
     "user": {
      "displayName": "Colin Paterson",
      "userId": "11890894921089994749"
     }
    }
   },
   "execution_count": 1,
   "outputs": []
  },
  {
   "cell_type": "code",
   "source": [
    "# the simplest thing we might want to do is 'stick' two strings together.\n",
    "# We've already done this but as a reminder we can do this using the '+' operator.\n",
    "#\n",
    "# Can you remember what the '*' operator does?\n",
    "#\n",
    "\n",
    "print (s1 + \" \" + s2)"
   ],
   "metadata": {
    "colab": {
     "base_uri": "https://localhost:8080/"
    },
    "id": "HQnjXPH1c_4I",
    "executionInfo": {
     "status": "ok",
     "timestamp": 1722701128905,
     "user_tz": -60,
     "elapsed": 6,
     "user": {
      "displayName": "Colin Paterson",
      "userId": "11890894921089994749"
     }
    },
    "outputId": "8b3d8579-01f6-40ed-f852-ca2c4de7a972"
   },
   "execution_count": 2,
   "outputs": []
  },
  {
   "cell_type": "markdown",
   "source": [
    "Rather than me giving you specific code. Try looking at some of the functions on this list and seeing what you can do.\n",
    "\n",
    "https://www.w3schools.com/python/python_ref_string.asp"
   ],
   "metadata": {
    "id": "IPlwYRGo2tUW"
   }
  },
  {
   "cell_type": "code",
   "source": [
    "# Insert your code in this cell.\n",
    "# here are a coupl to get you started\n",
    "\n",
    "s1.capitalize()\n",
    "s1.count('s')\n",
    "s1.endswith('.')\n"
   ],
   "metadata": {
    "id": "Hbfu31uHdI9g",
    "colab": {
     "base_uri": "https://localhost:8080/"
    },
    "executionInfo": {
     "status": "ok",
     "timestamp": 1722247032267,
     "user_tz": -60,
     "elapsed": 40,
     "user": {
      "displayName": "Colin Paterson",
      "userId": "11890894921089994749"
     }
    },
    "outputId": "c4ebd06d-235d-4474-bf34-b0bb25a66f92"
   },
   "execution_count": null,
   "outputs": []
  },
  {
   "cell_type": "code",
   "source": [
    "# We might also want only part of the string. We can do this by using square\n",
    "# brackets. Try the following and play with the numbers to make sure you know\n",
    "# what each line does. Remember numbers start at 0.\n",
    "print (f\"{s1=}\")\n",
    "print(f\"{s1[3]=}\")\n",
    "print(f\"{s1[:]=}\")\n",
    "print(f\"{s1[2:4]=}\")\n",
    "print(f\"{s1[:3]=}\")\n",
    "print(f\"{s1[:-3]=}\")\n",
    "print(f\"{s1[3:]=}\")\n"
   ],
   "metadata": {
    "colab": {
     "base_uri": "https://localhost:8080/"
    },
    "id": "IX_Bx-lgQd8Q",
    "executionInfo": {
     "status": "ok",
     "timestamp": 1722701241050,
     "user_tz": -60,
     "elapsed": 217,
     "user": {
      "displayName": "Colin Paterson",
      "userId": "11890894921089994749"
     }
    },
    "outputId": "04fddf00-ec01-48c8-ed3d-61bd8bd80199"
   },
   "execution_count": 7,
   "outputs": []
  },
  {
   "cell_type": "code",
   "source": [
    "# Handling numeric data with Python is something we are often called on to do\n",
    "# one of the most important functions you will use for that will be the split\n",
    "# function\n",
    "#\n",
    "# Here is an example of the code in action. Can you describe what is happening?\n",
    "#\n",
    "number_list = '1, 2.5, 6.7, 32'\n",
    "bits = number_list.split(',')\n",
    "print(bits)\n",
    "print(float(bits[0]))"
   ],
   "metadata": {
    "colab": {
     "base_uri": "https://localhost:8080/"
    },
    "id": "HhUbxIgmdopw",
    "executionInfo": {
     "status": "ok",
     "timestamp": 1722247032267,
     "user_tz": -60,
     "elapsed": 38,
     "user": {
      "displayName": "Colin Paterson",
      "userId": "11890894921089994749"
     }
    },
    "outputId": "ed6ea10a-c0e4-4c59-fcbc-5021c1bedd77"
   },
   "execution_count": null,
   "outputs": []
  },
  {
   "cell_type": "code",
   "source": [
    "# Challenge : create a list of people's names in the group and then get Python to split that up and print each name individually.\n",
    "# Hint. You can use the for construct.\n",
    "\n"
   ],
   "metadata": {
    "id": "X5BG-Yii32hZ"
   },
   "execution_count": null,
   "outputs": []
  },
  {
   "cell_type": "code",
   "source": [
    "# Another problem that can happen when we get a string is that people can add spaces to the\n",
    "# the begining and end unintentionally.\n",
    "print(s4)\n",
    "print(s4.strip(' '))"
   ],
   "metadata": {
    "colab": {
     "base_uri": "https://localhost:8080/"
    },
    "id": "pqoWwrvIdvI_",
    "executionInfo": {
     "status": "ok",
     "timestamp": 1722247032267,
     "user_tz": -60,
     "elapsed": 37,
     "user": {
      "displayName": "Colin Paterson",
      "userId": "11890894921089994749"
     }
    },
    "outputId": "dd4656e5-6b99-411f-be3a-981df2913c61"
   },
   "execution_count": null,
   "outputs": []
  },
  {
   "cell_type": "code",
   "source": [
    "# Below is a line of code to ask someone for a monetary amount.\n",
    "# add code to strip off a '\u00a3' sign if it exists and convert it to an integer.\n",
    "m = input(\"How much would you pay for a car ? \")\n"
   ],
   "metadata": {
    "colab": {
     "base_uri": "https://localhost:8080/"
    },
    "id": "Tj6i1-_C43Mj",
    "executionInfo": {
     "status": "ok",
     "timestamp": 1722247036934,
     "user_tz": -60,
     "elapsed": 4702,
     "user": {
      "displayName": "Colin Paterson",
      "userId": "11890894921089994749"
     }
    },
    "outputId": "8a482f58-97df-4f14-bc4c-f3b7aac18a80"
   },
   "execution_count": null,
   "outputs": []
  },
  {
   "cell_type": "code",
   "source": [
    "# Sometimes we want to replace, or remove characters from our strings.\n",
    "# try the code below which replaces the square brackets with spaces.\n",
    "\n",
    "s2 = s2.replace('[',' ')\n",
    "s2 = s2.replace(']',' ')\n"
   ],
   "metadata": {
    "id": "ccLXyi1Ld6WQ"
   },
   "execution_count": null,
   "outputs": []
  },
  {
   "cell_type": "code",
   "source": [
    "# copy your input code from above and make it possible to enter numbers with\n",
    "# commas and still to get an integer.\n",
    "m = input(\"How much would you pay for a car ? \")"
   ],
   "metadata": {
    "colab": {
     "base_uri": "https://localhost:8080/"
    },
    "id": "gWOVOXOO5qfH",
    "executionInfo": {
     "status": "ok",
     "timestamp": 1722247041519,
     "user_tz": -60,
     "elapsed": 4609,
     "user": {
      "displayName": "Colin Paterson",
      "userId": "11890894921089994749"
     }
    },
    "outputId": "eec9aeee-1586-4d37-eeca-498471c90d69"
   },
   "execution_count": null,
   "outputs": []
  },
  {
   "cell_type": "markdown",
   "source": [
    "## Text tokens and templates.\n",
    "\n",
    "One of the things you might have seen is a mail merge where a token in a file is replaced by some date calculated or retrieved from a database. This is something we can do quite easily in Python. Think about a string of the form ...\n",
    "\n",
    "Dear {first_name}, {last_name}\n",
    "\n",
    "The curly brackets tell us that this is a token and the text in the middle is the name of the token we are going to use to tell us what to replace the token with.\n",
    "\n",
    "We need to be able to search in a string then from curly brackets (or any other symbols which denote tokens).\n"
   ],
   "metadata": {
    "id": "4b_9ghvo5_Kn"
   }
  },
  {
   "cell_type": "code",
   "source": [
    "# using the find command we can find the first instance of a character in a string.\n",
    "pos = s3.find('{')\n",
    "print(pos)"
   ],
   "metadata": {
    "colab": {
     "base_uri": "https://localhost:8080/"
    },
    "id": "MSRGNLmEe2vL",
    "executionInfo": {
     "status": "ok",
     "timestamp": 1722247041519,
     "user_tz": -60,
     "elapsed": 28,
     "user": {
      "displayName": "Colin Paterson",
      "userId": "11890894921089994749"
     }
    },
    "outputId": "bc4212b7-4027-4047-c1f8-44f9e797cd41"
   },
   "execution_count": null,
   "outputs": []
  },
  {
   "cell_type": "code",
   "source": [
    "# Challenge: using the square brackets find the text held in the token.\n",
    "\n"
   ],
   "metadata": {
    "id": "CaQDK_J1fCso"
   },
   "execution_count": null,
   "outputs": []
  },
  {
   "cell_type": "code",
   "source": [
    "# Challenge : Describe what this code is doing.\n",
    "\n",
    "s_temp = s3\n",
    "i = 1\n",
    "while s_temp.find('{') != -1:\n",
    "    pos = s_temp.find('{')\n",
    "    left = s_temp[:pos]\n",
    "    pos = s_temp.find('}')\n",
    "    right = s_temp[pos+1:]\n",
    "    s_temp = left + f\"T{i}\" + right\n",
    "    i = i +1\n",
    "print(s_temp)"
   ],
   "metadata": {
    "colab": {
     "base_uri": "https://localhost:8080/"
    },
    "id": "5m3dIzmJffRZ",
    "executionInfo": {
     "status": "ok",
     "timestamp": 1722247041519,
     "user_tz": -60,
     "elapsed": 25,
     "user": {
      "displayName": "Colin Paterson",
      "userId": "11890894921089994749"
     }
    },
    "outputId": "dd0e08d7-a952-4a1f-eb09-de777279dd31"
   },
   "execution_count": null,
   "outputs": []
  },
  {
   "cell_type": "code",
   "source": [
    "# More compactly, but maybe less readably.\n",
    "\n",
    "s_temp = s3\n",
    "i = 1\n",
    "while s_temp.find('{') != -1:\n",
    "    s_temp = s_temp[:s_temp.find('{')] + f\"T{i}\"+ s_temp[s_temp.find('}')+1:]\n",
    "    i = i +1\n",
    "print(s_temp)"
   ],
   "metadata": {
    "colab": {
     "base_uri": "https://localhost:8080/"
    },
    "id": "ZUs3aKGUgh7f",
    "executionInfo": {
     "status": "ok",
     "timestamp": 1722247041519,
     "user_tz": -60,
     "elapsed": 23,
     "user": {
      "displayName": "Colin Paterson",
      "userId": "11890894921089994749"
     }
    },
    "outputId": "f8b7ba18-79c6-413c-84bd-d348b1e37761"
   },
   "execution_count": null,
   "outputs": []
  },
  {
   "cell_type": "markdown",
   "source": [
    "# File handling\n",
    "\n",
    "One of the really useful things we can do with Python is manipulate and manage files on our computer. Imagine that we run an experiement that runs every day for a year and logs someone's interactions with a website.\n",
    "\n",
    "We would end up with many log files which were all of the same format.\n",
    "We might want to extract key data from these files write a summary file and then delete the original files to save space.\n",
    "\n",
    "Python has a tool set for that."
   ],
   "metadata": {
    "id": "x5Q21mDZb9UU"
   }
  },
  {
   "cell_type": "markdown",
   "source": [
    "## Directories"
   ],
   "metadata": {
    "id": "W6SRx2bAViNQ"
   }
  },
  {
   "cell_type": "code",
   "execution_count": null,
   "metadata": {
    "colab": {
     "base_uri": "https://localhost:8080/"
    },
    "id": "TrSbqxCaXDM4",
    "executionInfo": {
     "status": "ok",
     "timestamp": 1722247041519,
     "user_tz": -60,
     "elapsed": 22,
     "user": {
      "displayName": "Colin Paterson",
      "userId": "11890894921089994749"
     }
    },
    "outputId": "a07aa46c-a2c0-4038-83cf-651a412517c0"
   },
   "outputs": [],
   "source": [
    "# In order to get access to the operating system, it won't surprise you to learn\n",
    "# that we need to import the operating system (os) module\n",
    "\n",
    "import os\n",
    "\n",
    "# once imported we can find out which directory we are in as follows.\n",
    "# (cwd = current working directory)\n",
    "\n",
    "print(os.getcwd())"
   ]
  },
  {
   "cell_type": "code",
   "source": [
    "# If you open the Jupyter file browser you will see a folder called sample_data.\n",
    "# Let's move into that directory.\n",
    "os.chdir('sample_data')\n",
    "print(os.getcwd())"
   ],
   "metadata": {
    "colab": {
     "base_uri": "https://localhost:8080/"
    },
    "id": "rOBITdTdX4Xw",
    "executionInfo": {
     "status": "ok",
     "timestamp": 1722247041519,
     "user_tz": -60,
     "elapsed": 21,
     "user": {
      "displayName": "Colin Paterson",
      "userId": "11890894921089994749"
     }
    },
    "outputId": "7d24e73d-dbb5-4186-a37b-704231eab074"
   },
   "execution_count": null,
   "outputs": []
  },
  {
   "cell_type": "code",
   "source": [
    "# We can move back out of that directory using a special directory called '..'\n",
    "os.chdir('..')\n",
    "print(os.getcwd())"
   ],
   "metadata": {
    "id": "dhIhHjjLYH2e",
    "executionInfo": {
     "status": "ok",
     "timestamp": 1722247041519,
     "user_tz": -60,
     "elapsed": 19,
     "user": {
      "displayName": "Colin Paterson",
      "userId": "11890894921089994749"
     }
    },
    "colab": {
     "base_uri": "https://localhost:8080/"
    },
    "outputId": "16138634-f148-4aa0-a801-e403da27f283"
   },
   "execution_count": null,
   "outputs": []
  },
  {
   "cell_type": "code",
   "source": [
    "# It's fine to open the browser pane and look and what's there, but remember\n",
    "# we're programmers now and we can get python to do that. Let's move back\n",
    "# into the sample_data directory and get a directory listing.\n",
    "\n",
    "os.chdir('sample_data')\n",
    "dir_list = os.listdir()\n",
    "print(dir_list)"
   ],
   "metadata": {
    "id": "fMb63gP4YO8P",
    "executionInfo": {
     "status": "ok",
     "timestamp": 1722247041519,
     "user_tz": -60,
     "elapsed": 18,
     "user": {
      "displayName": "Colin Paterson",
      "userId": "11890894921089994749"
     }
    },
    "colab": {
     "base_uri": "https://localhost:8080/"
    },
    "outputId": "74c70586-189a-4fdd-8b63-7feb2542bb3a"
   },
   "execution_count": null,
   "outputs": []
  },
  {
   "cell_type": "code",
   "source": [
    "# Of course we might need to create a directory to store things in\n",
    "# so let's do that.\n",
    "\n",
    "os.mkdir('temporary')\n",
    "os.listdir()"
   ],
   "metadata": {
    "id": "Z8T9Hry9YUAW",
    "executionInfo": {
     "status": "ok",
     "timestamp": 1722247041519,
     "user_tz": -60,
     "elapsed": 17,
     "user": {
      "displayName": "Colin Paterson",
      "userId": "11890894921089994749"
     }
    },
    "colab": {
     "base_uri": "https://localhost:8080/"
    },
    "outputId": "712b95bf-82fd-47aa-f46c-8a0ad49a16fb"
   },
   "execution_count": null,
   "outputs": []
  },
  {
   "cell_type": "code",
   "source": [
    "# Sorry I meant to call it temp, let's rename it\n",
    "\n",
    "os.rename('temporary','temp')\n",
    "os.listdir()"
   ],
   "metadata": {
    "id": "Xmxnr1xaYftg",
    "executionInfo": {
     "status": "ok",
     "timestamp": 1722247041519,
     "user_tz": -60,
     "elapsed": 16,
     "user": {
      "displayName": "Colin Paterson",
      "userId": "11890894921089994749"
     }
    },
    "colab": {
     "base_uri": "https://localhost:8080/"
    },
    "outputId": "e5f9e52e-6291-4c3b-acab-2082089b45c0"
   },
   "execution_count": null,
   "outputs": []
  },
  {
   "cell_type": "code",
   "source": [
    "# Actually I don't need the directory at all\n",
    "os.rmdir('temp')\n",
    "os.listdir()"
   ],
   "metadata": {
    "id": "e2k6HOsmYmlM",
    "executionInfo": {
     "status": "ok",
     "timestamp": 1722247041519,
     "user_tz": -60,
     "elapsed": 15,
     "user": {
      "displayName": "Colin Paterson",
      "userId": "11890894921089994749"
     }
    },
    "colab": {
     "base_uri": "https://localhost:8080/"
    },
    "outputId": "5e766a26-187a-4757-86b4-82912c05466e"
   },
   "execution_count": null,
   "outputs": []
  },
  {
   "cell_type": "code",
   "source": [
    "# although we can use the string splitting functions\n",
    "# os has it's own path splitter function.\n",
    "s = os.path.split(os.getcwd())\n",
    "print(s)\n"
   ],
   "metadata": {
    "id": "6QY21gzYYwsb",
    "executionInfo": {
     "status": "ok",
     "timestamp": 1722247041519,
     "user_tz": -60,
     "elapsed": 14,
     "user": {
      "displayName": "Colin Paterson",
      "userId": "11890894921089994749"
     }
    },
    "colab": {
     "base_uri": "https://localhost:8080/"
    },
    "outputId": "1a4eb18c-4155-4c37-fcf0-c711b3518d61"
   },
   "execution_count": null,
   "outputs": []
  },
  {
   "cell_type": "code",
   "source": [
    "# Sometimes we want to check if something exists before we commit to creating a\n",
    "# new directory or file.\n",
    "print(os.path.exists('temp'))"
   ],
   "metadata": {
    "id": "N8WJi7K9ZCKD",
    "executionInfo": {
     "status": "ok",
     "timestamp": 1722247041520,
     "user_tz": -60,
     "elapsed": 14,
     "user": {
      "displayName": "Colin Paterson",
      "userId": "11890894921089994749"
     }
    },
    "colab": {
     "base_uri": "https://localhost:8080/"
    },
    "outputId": "3383543f-bcbf-415a-ec21-a4d9a87cb7e0"
   },
   "execution_count": null,
   "outputs": []
  },
  {
   "cell_type": "markdown",
   "source": [
    "## Files"
   ],
   "metadata": {
    "id": "CZongfCyVmdH"
   }
  },
  {
   "cell_type": "code",
   "source": [
    "# OK so the first thing we are going to do is to read a file that already exists.\n",
    "# We start by opening the file and providing the file name and the opening mode\n",
    "# in this case we want to read it so we say 'r' for read.\n",
    "\n",
    "f = open('README.md','r')\n",
    "\n",
    "\n",
    "# The function returns us a 'file handle'.\n",
    "print(type(f), '\\n')\n",
    "\n",
    "\n",
    "\n",
    "# simplest thig we can do is read from it.\n",
    "# This shows us the complete file.\n",
    "print(f.read())\n",
    "\n",
    "# once we have finished with a file it is good practive to close it.\n",
    "\n",
    "f.close()"
   ],
   "metadata": {
    "id": "xbAH8k93ZJ_U",
    "executionInfo": {
     "status": "ok",
     "timestamp": 1722247041520,
     "user_tz": -60,
     "elapsed": 13,
     "user": {
      "displayName": "Colin Paterson",
      "userId": "11890894921089994749"
     }
    },
    "colab": {
     "base_uri": "https://localhost:8080/"
    },
    "outputId": "c86024c4-3951-499d-be77-72119130c0e3"
   },
   "execution_count": null,
   "outputs": []
  },
  {
   "cell_type": "code",
   "source": [
    "# let's open our file again and look a little more closely at the read function\n",
    "# Can you explain what the follwowing is doing? feel free to add your own lines of code\n",
    "# to help you understand.\n",
    "\n",
    "f = open('README.md','r')\n",
    "\n",
    "s1 = f.read(50)\n",
    "s2 = f.read(20)\n",
    "\n",
    "f.close()"
   ],
   "metadata": {
    "id": "RW4v2qWwZgdT"
   },
   "execution_count": null,
   "outputs": []
  },
  {
   "cell_type": "code",
   "source": [
    "# For text files it can be useful to read complete line of code and the\n",
    "# file handle has a function for that.\n",
    "f = open('README.md','r')\n",
    "print(f.readline())\n",
    "f.close()"
   ],
   "metadata": {
    "id": "H5fnLnM_Zu17",
    "executionInfo": {
     "status": "ok",
     "timestamp": 1722247041520,
     "user_tz": -60,
     "elapsed": 11,
     "user": {
      "displayName": "Colin Paterson",
      "userId": "11890894921089994749"
     }
    },
    "colab": {
     "base_uri": "https://localhost:8080/"
    },
    "outputId": "6c26de28-3f6c-4e67-da95-b0f2cb7e58fb"
   },
   "execution_count": null,
   "outputs": []
  },
  {
   "cell_type": "code",
   "source": [
    "# in fact the file object holds the lines as a collection\n",
    "# meaning we can use the for look to look over them\n",
    "\n",
    "# Notice that I'm making sure that I don't add a carriage return to the end of the\n",
    "# strings that we read.\n",
    "\n",
    "# what happens if you remove this?\n",
    "\n",
    "f = open('README.md','r')\n",
    "for x in f:\n",
    "    print(x, end='')\n",
    "\n",
    "f.close()"
   ],
   "metadata": {
    "id": "5pWu11UbZ0ES",
    "executionInfo": {
     "status": "ok",
     "timestamp": 1722247041520,
     "user_tz": -60,
     "elapsed": 10,
     "user": {
      "displayName": "Colin Paterson",
      "userId": "11890894921089994749"
     }
    },
    "colab": {
     "base_uri": "https://localhost:8080/"
    },
    "outputId": "0623875e-6a54-4a61-c7dd-7413dc9df089"
   },
   "execution_count": null,
   "outputs": []
  },
  {
   "cell_type": "code",
   "source": [
    "# Of course sometimes we want to create our own files.\n",
    "# Instead of opening the fiel in 'r'ead mode we can use\n",
    "# 'w'rite mode.\n",
    "\n",
    "\n",
    "f = open(\"demofile2.txt\", \"w\")\n",
    "\n",
    "\n",
    "# Then, instead of using f.read, we can use f.write\n",
    "# Just a reminder f is just a variable name and can be anything.\n",
    "f.write(\"Now the file has some content!\\n\")\n",
    "f.write(\"a\")\n",
    "f.write(\"b\")\n",
    "f.write(\"c\\n\")\n",
    "f.write(\"d\")\n",
    "f.close()\n",
    "\n",
    "#open and read the file after the appending:\n",
    "f = open(\"demofile2.txt\", \"r\")\n",
    "print(f.read())\n",
    "\n",
    "f.close()\n",
    "\n"
   ],
   "metadata": {
    "id": "dEg3RXFqZ_1L",
    "executionInfo": {
     "status": "ok",
     "timestamp": 1722247041520,
     "user_tz": -60,
     "elapsed": 8,
     "user": {
      "displayName": "Colin Paterson",
      "userId": "11890894921089994749"
     }
    },
    "colab": {
     "base_uri": "https://localhost:8080/"
    },
    "outputId": "0d0cadf2-bf90-40d8-fdf2-0f8058aaddba"
   },
   "execution_count": null,
   "outputs": []
  },
  {
   "cell_type": "code",
   "source": [
    "# Of course once we've finished with the file we can delete it using the\n",
    "# operating system (os) functions.\n",
    "os.remove('demofile2.txt')"
   ],
   "metadata": {
    "id": "H9VXF1JfagMB"
   },
   "execution_count": null,
   "outputs": []
  },
  {
   "cell_type": "code",
   "source": [
    "f = open(\"demofile2.txt\", \"a\")\n",
    "f.write(\"Now the file has more content!\\n\")\n",
    "f.write(\"a\")\n",
    "f.write(\"b\")\n",
    "f.write(\"c\\n\")\n",
    "f.write(\"d\")\n",
    "f.close()\n",
    "\n",
    "\n",
    "\n",
    "\n",
    "#using the w flag to overwrite\n",
    "f = open(\"demofile2.txt\", \"w\")\n",
    "f.write(\"Another line\")\n",
    "f.close()\n",
    "\n",
    "#open and read the file after the appending:\n",
    "f = open(\"demofile2.txt\", \"r\")\n",
    "print(f.read())\n",
    "\n",
    "f.close()\n",
    "\n",
    "#\"x\" - Create - will create a file, returns an error if the file exist\n",
    "#\"a\" - Append - will create a file if the specified file does not exist\n",
    "#\"w\" - Write - will create a file if the specified file does not exist\n",
    "\n"
   ],
   "metadata": {
    "id": "ZJhJh57Har26",
    "executionInfo": {
     "status": "ok",
     "timestamp": 1722247041520,
     "user_tz": -60,
     "elapsed": 7,
     "user": {
      "displayName": "Colin Paterson",
      "userId": "11890894921089994749"
     }
    },
    "colab": {
     "base_uri": "https://localhost:8080/"
    },
    "outputId": "ffb131c4-1b2e-4182-f76c-38705a49ce21"
   },
   "execution_count": null,
   "outputs": []
  },
  {
   "cell_type": "markdown",
   "source": [
    "## Challenge.\n",
    "\n",
    "1. Create a file containing your name and something interesting about yourself.\n",
    "2. Rename the file\n",
    "3. Append some content\n",
    "4. Print our the contents of the file.\n",
    "5. Delete the file\n",
    "\n"
   ],
   "metadata": {
    "id": "loeB0jcQ7xjq"
   }
  },
  {
   "cell_type": "code",
   "source": [
    "# Put your code in here.\n",
    "\n"
   ],
   "metadata": {
    "id": "uebNSMie8OPx"
   },
   "execution_count": null,
   "outputs": []
  }
 ]
}