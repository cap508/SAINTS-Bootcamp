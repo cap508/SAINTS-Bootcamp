{
  "cells": [
    {
      "cell_type": "markdown",
      "metadata": {
        "id": "Ebh-KQwhWlkK"
      },
      "source": [
        "# Introduction to Data Visualization in Python\n",
        "\n",
        "Chapter 1 - Line Graphs\n",
        "\n",
        "Welcome to this, the first part of our data visualization in python course. We are going to start nice and easy here with line graphs. There is no intention here to teach you the basics of python, but hopefully the code will be commented enough for you to understand what is going on.\n",
        "\n",
        "In this section you will learn about plots, subplots, figures, line styles, legends and saving your plots for inclusion in you reports.\n",
        "\n",
        "Even if you can't find exactly what you are looking for runnign through this sheet should allow you to know what keywords to look for onle.\n",
        "\n",
        "If you have any questions, feedback or suggestions then please feel free to contact me, colin.paterson@york.ac.uk"
      ]
    },
    {
      "cell_type": "code",
      "execution_count": null,
      "metadata": {
        "id": "2G-zBar0Wjnv"
      },
      "outputs": [],
      "source": [
        "# Let us start by importing some libraries which will be need for this worksheet.\n",
        "\n",
        "\n",
        "import matplotlib.pyplot as plt\n",
        "import numpy as np"
      ]
    },
    {
      "cell_type": "code",
      "execution_count": null,
      "metadata": {
        "id": "SCZ50d4Ea1Ss"
      },
      "outputs": [],
      "source": [
        "# Let us set up some data to plot. This will use the numpy library to create a set of numbers between 0 and 2 in steps of 0.01\n",
        "# Then create a sinusoidal wave which we want to plot.\n",
        "t = np.arange(0.0,2.0, 0.01)\n",
        "y = np.sin(2*np.pi*t)"
      ]
    },
    {
      "cell_type": "code",
      "execution_count": null,
      "metadata": {
        "id": "KDtLz64gcFA9"
      },
      "outputs": [],
      "source": [
        "# Before we plot the data let's just have a look at what we have\n",
        "# Note I use {} as a place holder in the print string and then the format command\n",
        "# to say what should be in the placeholder.\n",
        "# In the final line I show how to insert a linebreak.\n",
        "\n",
        "print(\"The varaible t is of type {} \".format(type(t)))\n",
        "print(\"The first value in t is {} and the second is {}\".format(t[0], t[1]))\n",
        "print(\"Here are the values stored in t at locations 10 through 19 \\n {}\".format(t[10:20]))\n"
      ]
    },
    {
      "cell_type": "markdown",
      "metadata": {
        "id": "EKSwz2dhdZkM"
      },
      "source": [
        "**<font color='red'>Now you try.</font>**  In the cell below print out the type of the y varaible and the values held in positions 12 to 25 inclusive."
      ]
    },
    {
      "cell_type": "code",
      "execution_count": null,
      "metadata": {
        "id": "VRfmHdLUdYiz"
      },
      "outputs": [],
      "source": [
        "# Insert your code into this cell"
      ]
    },
    {
      "cell_type": "code",
      "execution_count": null,
      "metadata": {
        "id": "4i6nmevDbETm"
      },
      "outputs": [],
      "source": [
        "# Now we understand whats in the data let's see what it looks like as a plot.\n",
        "plt.plot(t,y)"
      ]
    },
    {
      "cell_type": "markdown",
      "metadata": {
        "id": "7fCgOAsTeS3H"
      },
      "source": [
        "**<font color='red'>Now you try.</font>**  using what you have learned so far create a plot of a cosine wave for t in the range 0 to 1."
      ]
    },
    {
      "cell_type": "code",
      "execution_count": null,
      "metadata": {
        "id": "z-jYnea9eiKC"
      },
      "outputs": [],
      "source": [
        "# Insert your code into this cell"
      ]
    },
    {
      "cell_type": "code",
      "execution_count": null,
      "metadata": {
        "id": "pws3SLDiem2r"
      },
      "outputs": [],
      "source": [
        "# Ok so that was the simplest form, but if we want to control the axis and other\n",
        "# features of the plot then we need to get a reference to them. This is how we\n",
        "# do that.\n",
        "\n",
        "fig,ax = plt.subplots()\n",
        "ax.plot(t,y)\n",
        "ax.set(xlabel='time (s)', ylabel='voltage (mV)', title='A sinusoidal wave form')\n",
        "ax.grid()\n"
      ]
    },
    {
      "cell_type": "code",
      "execution_count": null,
      "metadata": {
        "id": "gwfsoa6_fPmJ"
      },
      "outputs": [],
      "source": [
        "# But what if we want two plots on the same graph?\n",
        "# Let's start by assuming that we want the same x axis\n",
        "\n",
        "y2 = t - 1.0\n",
        "fig,ax = plt.subplots()\n",
        "ax.plot(t,y)\n",
        "ax.plot(t,y2)\n",
        "ax.set(xlabel='time (s)', ylabel='voltage (mV)', title='A sinusoidal wave form and linear plot')\n",
        "ax.grid()\n"
      ]
    },
    {
      "cell_type": "markdown",
      "metadata": {
        "id": "NtTcNM_CgaEy"
      },
      "source": [
        "Note that the second line is allocated a new colour. But what if we want to control the style and colour of the line ourselves.\n",
        "\n",
        "We can do this by adding parameters to the plot command as follows:\n",
        "\n",
        "> ax.plot(t,y, linestyle = '-', color='red')\n",
        "\n",
        "Note that color takes the American spelling.\n",
        "\n",
        "linestyle can take any one of ('-',':', '_','-.')\n",
        "\n",
        "**<font color='red'>Now you try.</font>**  In the cell below change the linestyle and colours to see what each does.\n"
      ]
    },
    {
      "cell_type": "code",
      "execution_count": null,
      "metadata": {
        "id": "m8InHs3dhhuH"
      },
      "outputs": [],
      "source": [
        "# Change linestyles and colours in the plot commands\n",
        "\n",
        "y2 = t - 1.0\n",
        "fig,ax = plt.subplots()\n",
        "ax.plot(t,y, linestyle='-', color='red')\n",
        "ax.plot(t,y2, linestyle='-', color='red')\n",
        "ax.set(xlabel='time (s)', ylabel='voltage (mV)', title='A sinusoidal wave form and linear plot')\n",
        "ax.grid()"
      ]
    },
    {
      "cell_type": "code",
      "execution_count": null,
      "metadata": {
        "id": "PNXkEeeghrEo"
      },
      "outputs": [],
      "source": [
        "# It would be even better if we could tell people what each line represented\n",
        "# so let's add a legend to the plot. We do this using the legend command on\n",
        "# the axis.\n",
        "\n",
        "# Note that we have to label each plot so the legend knows what to write.\n",
        "\n",
        "y2 = t - 1.0\n",
        "fig,ax = plt.subplots()\n",
        "ax.plot(t,y, linestyle='-', color='red', label='sine wave')\n",
        "ax.plot(t,y2, linestyle='--', color='blue', label='linear plot')\n",
        "ax.legend()\n",
        "ax.set(xlabel='time (s)', ylabel='voltage (mV)', title='A sinusoidal wave form and linear plot')\n",
        "ax.grid()"
      ]
    },
    {
      "cell_type": "markdown",
      "metadata": {
        "id": "cFEOX1mxi-O3"
      },
      "source": [
        "**<font color='red'>Now you try.</font>**   Create a graph with three lines of different styles and colours with a supporting legend. You can choose where the legend goes by adding a loc parameter to the legend command as follows:\n",
        "\n",
        ">ax.legend(loc='upper right')\n",
        "\n",
        "Try using 'upper' 'lower' and 'center' to place it approprately"
      ]
    },
    {
      "cell_type": "code",
      "execution_count": null,
      "metadata": {
        "id": "ukvu8Vk1iMSV"
      },
      "outputs": [],
      "source": [
        "# Insert your code into this cell"
      ]
    },
    {
      "cell_type": "markdown",
      "metadata": {
        "id": "tuN4rXWGuuS9"
      },
      "source": [
        "***Subplots*** So far we have simply considered a single plot, but what if we wish to have multiple plots in the same figure. Fear not because matplotlib allows use to have subplots."
      ]
    },
    {
      "cell_type": "code",
      "execution_count": null,
      "metadata": {
        "id": "5lydpSLSutg2"
      },
      "outputs": [],
      "source": [
        "# Here we can see that by adding a number to the subplots command we recieve an\n",
        "# array of axis, each one of which can be controlled independently\n",
        "y2 = t - 1.0\n",
        "fig,ax = plt.subplots(2)\n",
        "ax[0].plot(t,y, linestyle='-', color='red', label='sine wave')\n",
        "ax[1].plot(t,y2, linestyle='--', color='blue', label='linear plot')\n",
        "ax[0].legend()\n",
        "ax[0].set(xlabel='time (s)', ylabel='voltage (mV)', title='A sinusoidal wave form and linear plot')\n",
        "ax[0].grid()\n"
      ]
    },
    {
      "cell_type": "code",
      "execution_count": null,
      "metadata": {
        "id": "XnPew6iQvg5I"
      },
      "outputs": [],
      "source": [
        "# If we want to take more control of the subplot layout then we can do this\n",
        "# as follows\n",
        "\n",
        "fig = plt.figure()\n",
        "# play with the parameter values to see what they do\n",
        "fig.subplots_adjust(hspace=0.4, wspace=0.4)\n",
        "# Note that this will give us values 1 to 6 as range does not include the upper bound\n",
        "for i in range(1,7):\n",
        "  # we re adding 6 plots as 2 row and 3 columns and getting the reference to\n",
        "  # the ith plot.\n",
        "  ax = fig.add_subplot(2,3,i)\n",
        "  # then plot into each axis\n",
        "  # in this case we plot the same each time.\n",
        "  ax.plot(t,y)\n",
        "\n"
      ]
    },
    {
      "cell_type": "markdown",
      "metadata": {
        "id": "_jOfiPOxyax7"
      },
      "source": [
        "<font color=red>Now you try.</font> Copy the code from above to create a 2 by 2 grid with a different plot in each axis."
      ]
    },
    {
      "cell_type": "code",
      "execution_count": null,
      "metadata": {
        "id": "2G2r56G0yOkb"
      },
      "outputs": [],
      "source": [
        "# Insert your code here."
      ]
    },
    {
      "cell_type": "code",
      "execution_count": null,
      "metadata": {
        "id": "o8jh5Ew3yrej"
      },
      "outputs": [],
      "source": [
        "# We can get even more creative as follows\n",
        "\n",
        "fig = plt.GridSpec(2,3, wspace=0.4, hspace=0.3)\n",
        "ax1 = plt.subplot(fig[0,0]) # row 0, column 0\n",
        "ax2 = plt.subplot(fig[0,1:]) # row 0, column 1 and 2\n",
        "ax3 = plt.subplot(fig[1,:2]) # row 1, column 0 and 1\n",
        "ax4 = plt.subplot(fig[1,2]) # row 1, colum 2\n",
        "\n",
        "ax1.plot(t,y, linestyle='-.', color='red')\n",
        "ax1.grid()\n",
        "\n",
        "ax3.plot(t,y2, color='green')\n",
        "\n"
      ]
    },
    {
      "cell_type": "markdown",
      "metadata": {
        "id": "FiY3222BkwPo"
      },
      "source": [
        "***Saving your plot.*** It is all well and good creating these plots but how are we going to use them in our papers and reports. The answer is that we need to save them.\n",
        "\n",
        "This is achieved using the *fig* variable we created when we setup the plot.\n",
        "\n",
        "We then use *fig.savefig(<filename>)* to save the plot.\n",
        "\n",
        "In colab this puts it in the folder on the left han menu bar.\n",
        "\n",
        "<font color='red'>Run the next cell and locate the file it created and donwload it to your machine.</font>\n",
        "\n",
        "*Please Note* Saving as a pdf gives better results for inclusion in a Latex document."
      ]
    },
    {
      "cell_type": "code",
      "execution_count": null,
      "metadata": {
        "id": "_QrF-L2bkq8V"
      },
      "outputs": [],
      "source": [
        "# It would be even better if we could tell people what each line represented\n",
        "# so let's add a legend to the plot. We do this using the legend command on\n",
        "# the axis.\n",
        "\n",
        "# Note that we have to label each plot so the legend knows what to write.\n",
        "\n",
        "y2 = t - 1.0\n",
        "fig,ax = plt.subplots()\n",
        "ax.plot(t,y, linestyle='-', color='red', label='sine wave')\n",
        "ax.plot(t,y2, linestyle='--', color='blue', label='linear plot')\n",
        "ax.legend()\n",
        "ax.set(xlabel='time (s)', ylabel='voltage (mV)', title='A sinusoidal wave form and linear plot')\n",
        "ax.grid()\n",
        "fig.savefig('test.pdf')"
      ]
    },
    {
      "cell_type": "markdown",
      "source": [
        "# Using the Seaborn Library\n",
        "\n",
        "Seaboarn is built on matplotlib and is focused more on statistical graphs.\n",
        "\n",
        "A nice introduction is available here: https://www.datacamp.com/tutorial/seaborn-python-tutorial"
      ],
      "metadata": {
        "id": "tmCyXIkFQK4n"
      }
    },
    {
      "cell_type": "code",
      "execution_count": null,
      "metadata": {
        "id": "pMIGe4cMlqUD"
      },
      "outputs": [],
      "source": [
        "import seaborn as sns\n",
        "\n",
        "t = np.arange(0.0,2.0, 0.1)\n",
        "y = np.sin(2*np.pi*t)\n",
        "\n",
        "sns.lineplot(x=t, y=y)"
      ]
    },
    {
      "cell_type": "code",
      "source": [
        "\n",
        "custom_style = {'axes.labelcolor': 'white',\n",
        "                'xtick.color': 'black',\n",
        "                'ytick.color': 'blue'}\n",
        "sns.set_style(\"darkgrid\", rc=custom_style)\n",
        "sns.lineplot(x=t, y=y, marker='*', markerfacecolor='blue', markersize=10)\n",
        "plt.grid()"
      ],
      "metadata": {
        "id": "toOVPrYpQkv2"
      },
      "execution_count": null,
      "outputs": []
    },
    {
      "cell_type": "code",
      "source": [
        "tips = sns.load_dataset(\"tips\")\n",
        "tips.head()"
      ],
      "metadata": {
        "id": "r3GuUCiWQ2J9"
      },
      "execution_count": null,
      "outputs": []
    },
    {
      "cell_type": "code",
      "source": [
        "sns.histplot(data=tips, x=\"total_bill\", hue=\"sex\")"
      ],
      "metadata": {
        "id": "LK83k5h-wfzy"
      },
      "execution_count": null,
      "outputs": []
    },
    {
      "cell_type": "markdown",
      "source": [
        "# Pandas and plotting\n",
        "\n",
        "Again pandas builds on top of Matplotlib to try and make plotting simpler.\n",
        "\n",
        "https://pandas.pydata.org/docs/user_guide/visualization.html"
      ],
      "metadata": {
        "id": "j7dzEHYvw1i5"
      }
    },
    {
      "cell_type": "code",
      "source": [
        "import pandas as pd\n",
        "np.random.seed(123)\n",
        "\n",
        "ts = pd.Series(np.random.randn(1000), index=pd.date_range('1/1/2000', periods=1000))\n",
        "\n",
        "ts = ts.cumsum()\n",
        "\n",
        "ts.plot()"
      ],
      "metadata": {
        "id": "0NpntwLWwmD_"
      },
      "execution_count": null,
      "outputs": []
    },
    {
      "cell_type": "code",
      "source": [],
      "metadata": {
        "id": "Sm9a7DaSxrQ-"
      },
      "execution_count": null,
      "outputs": []
    }
  ],
  "metadata": {
    "colab": {
      "provenance": []
    },
    "kernelspec": {
      "display_name": "Python 3",
      "name": "python3"
    },
    "language_info": {
      "name": "python"
    }
  },
  "nbformat": 4,
  "nbformat_minor": 0
}