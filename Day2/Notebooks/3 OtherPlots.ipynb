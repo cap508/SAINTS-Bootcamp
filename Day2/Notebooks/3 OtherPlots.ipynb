{
  "cells": [
    {
      "cell_type": "markdown",
      "metadata": {
        "id": "4YPDgcNB5bUW"
      },
      "source": [
        "There are *many* much more interesting plots you can create in python, here are some resources and ideas for you to explore."
      ]
    },
    {
      "cell_type": "code",
      "execution_count": null,
      "metadata": {
        "id": "VhG81SIy4tda"
      },
      "outputs": [],
      "source": [
        "from mlxtend.plotting import plot_confusion_matrix\n",
        "import matplotlib.pyplot as plt\n",
        "import numpy as np"
      ]
    },
    {
      "cell_type": "code",
      "execution_count": null,
      "metadata": {
        "id": "geoecp-q4L28"
      },
      "outputs": [],
      "source": [
        "# If you are doing machine learning then no doubt you will at some point want to create a confusion matrix.\n",
        "# The code below is the simplest example I have found.\n",
        "\n",
        "class_dict = {0: 'airplane',\n",
        "              1: 'automobile',\n",
        "              2: 'bird',\n",
        "              3: 'cat',\n",
        "              4: 'deer',\n",
        "              5: 'dog',\n",
        "              6: 'frog'}\n",
        "\n",
        "cmat = np.array([[972, 0, 1, 1, 1, 1, 3],\n",
        "                 [0, 1123, 3, 1, 0, 1, 2],\n",
        "                 [2, 0, 1025, 0, 0, 0, 1],\n",
        "                 [0, 0, 0, 1005, 0, 2, 0],\n",
        "                 [0, 1, 1, 0, 967, 0, 4],\n",
        "                 [0, 0, 0, 6, 0, 881, 3],\n",
        "                 [2, 3, 0, 1, 3, 4, 941]])\n",
        "\n",
        "fig, ax = plot_confusion_matrix(\n",
        "    conf_mat=cmat,\n",
        "    class_names=class_dict.values(),\n",
        ")"
      ]
    },
    {
      "cell_type": "markdown",
      "metadata": {
        "id": "FutzUb4B5_L4"
      },
      "source": [
        "#Python Gallery.\n",
        "\n",
        "Here is a website with lots of different plots for you to try.\n",
        "https://python-graph-gallery.com/\n",
        "\n",
        "Here is one example from the site called a correlogram. It makes use of seaborn which is a widely sued package for data visualization."
      ]
    },
    {
      "cell_type": "code",
      "execution_count": null,
      "metadata": {
        "id": "7coKuSlm432T"
      },
      "outputs": [],
      "source": [
        "# library & dataset\n",
        "import seaborn as sns\n",
        "df = sns.load_dataset('iris')\n",
        "import matplotlib.pyplot as plt\n",
        "\n",
        "# Basic correlogram\n",
        "sns.pairplot(df)\n",
        "plt.show()"
      ]
    },
    {
      "cell_type": "markdown",
      "metadata": {
        "id": "smqnb9Nh6jKE"
      },
      "source": [
        "#Network diagrams.\n",
        "\n",
        "You might find yourself having to plt network diagrams, luckily there is a package called networkx that helps with this."
      ]
    },
    {
      "cell_type": "code",
      "execution_count": null,
      "metadata": {
        "id": "RUwITxsq5Pca"
      },
      "outputs": [],
      "source": [
        "# libraries\n",
        "import pandas as pd\n",
        "import numpy as np\n",
        "import networkx as nx\n",
        "import matplotlib.pyplot as plt\n",
        "\n",
        "# Build a dataframe with your connections\n",
        "df = pd.DataFrame({ 'from':['A', 'B', 'C','A'], 'to':['D', 'A', 'E','C']})\n",
        "\n",
        "# Build your graph\n",
        "G=nx.from_pandas_edgelist(df, 'from', 'to')\n",
        "\n",
        "# Graph with Custom nodes:\n",
        "nx.draw(G, with_labels=True, node_size=500, node_color=\"skyblue\", node_shape=\"s\", alpha=0.5, linewidths=40)\n",
        "plt.show()"
      ]
    },
    {
      "cell_type": "code",
      "execution_count": null,
      "metadata": {
        "id": "m_4e4oJ36h6V"
      },
      "outputs": [],
      "source": []
    }
  ],
  "metadata": {
    "colab": {
      "provenance": []
    },
    "kernelspec": {
      "display_name": "Python 3",
      "name": "python3"
    },
    "language_info": {
      "name": "python"
    }
  },
  "nbformat": 4,
  "nbformat_minor": 0
}